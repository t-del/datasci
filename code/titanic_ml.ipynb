{
 "cells": [
  {
   "cell_type": "markdown",
   "metadata": {},
   "source": [
    "## Titanic ML\n",
    "\n",
    "In this Kaggle competition we have data on Titanic passengers and are trying to predict whether or not they survived the sinking. The 'train.csv' set has a column 'Survived' to indicate as such. From this we'll want to train a model to predict the survival outcomes of passengers in the 'test.csv' set.\n",
    "\n",
    "First we'll load the data go over it column by column, doing some EDA and cleaning/prepping/modifying the data as necessary. Then we'll load, train, and tweak a model to predict survival."
   ]
  },
  {
   "cell_type": "markdown",
   "metadata": {},
   "source": [
    "1. [Importing the data & first look](#import)\n",
    "\n",
    "    1.1 [Pclass](#pclass)\n",
    "    \n",
    "    1.2 [Name](#name)\n",
    "    \n",
    "    1.3 [Sex](#sex)\n",
    "    \n",
    "    1.4 [Age](#age)\n",
    "    \n",
    "    1.5 [SibSp & Parch](#family)\n",
    "    \n",
    "    1.6 [Ticket](#ticket)\n",
    "    \n",
    "    1.7 [Fare](#fare)\n",
    "    \n",
    "    1.8 [Cabin](#cabin)\n",
    "    \n",
    "    1.9 [Embarked](#embarked)\n",
    "    \n",
    "2. [Data encoding](#encoding)\n",
    "3. [Model training](#modeling)"
   ]
  },
  {
   "cell_type": "code",
   "execution_count": 1,
   "metadata": {
    "collapsed": true
   },
   "outputs": [],
   "source": [
    "# Package imports\n",
    "\n",
    "import pandas as pd\n",
    "import numpy as np\n",
    "import matplotlib.pyplot as plt\n",
    "import seaborn as sns\n",
    "import math\n",
    "\n",
    "%matplotlib inline "
   ]
  },
  {
   "cell_type": "markdown",
   "metadata": {},
   "source": [
    "## <a name=\"import\">Importing the data & first look</a>"
   ]
  },
  {
   "cell_type": "code",
   "execution_count": 2,
   "metadata": {
    "collapsed": true
   },
   "outputs": [],
   "source": [
    "# grab data\n",
    "\n",
    "dt_train_raw = pd.read_csv('train.csv')\n",
    "dt_test_raw = pd.read_csv('test.csv')"
   ]
  },
  {
   "cell_type": "code",
   "execution_count": 3,
   "metadata": {
    "collapsed": false
   },
   "outputs": [
    {
     "data": {
      "text/html": [
       "<div>\n",
       "<table border=\"1\" class=\"dataframe\">\n",
       "  <thead>\n",
       "    <tr style=\"text-align: right;\">\n",
       "      <th></th>\n",
       "      <th>PassengerId</th>\n",
       "      <th>Survived</th>\n",
       "      <th>Pclass</th>\n",
       "      <th>Name</th>\n",
       "      <th>Sex</th>\n",
       "      <th>Age</th>\n",
       "      <th>SibSp</th>\n",
       "      <th>Parch</th>\n",
       "      <th>Ticket</th>\n",
       "      <th>Fare</th>\n",
       "      <th>Cabin</th>\n",
       "      <th>Embarked</th>\n",
       "    </tr>\n",
       "  </thead>\n",
       "  <tbody>\n",
       "    <tr>\n",
       "      <th>292</th>\n",
       "      <td>293</td>\n",
       "      <td>0</td>\n",
       "      <td>2</td>\n",
       "      <td>Levy, Mr. Rene Jacques</td>\n",
       "      <td>male</td>\n",
       "      <td>36.0</td>\n",
       "      <td>0</td>\n",
       "      <td>0</td>\n",
       "      <td>SC/Paris 2163</td>\n",
       "      <td>12.8750</td>\n",
       "      <td>D</td>\n",
       "      <td>C</td>\n",
       "    </tr>\n",
       "    <tr>\n",
       "      <th>11</th>\n",
       "      <td>12</td>\n",
       "      <td>1</td>\n",
       "      <td>1</td>\n",
       "      <td>Bonnell, Miss. Elizabeth</td>\n",
       "      <td>female</td>\n",
       "      <td>58.0</td>\n",
       "      <td>0</td>\n",
       "      <td>0</td>\n",
       "      <td>113783</td>\n",
       "      <td>26.5500</td>\n",
       "      <td>C103</td>\n",
       "      <td>S</td>\n",
       "    </tr>\n",
       "    <tr>\n",
       "      <th>60</th>\n",
       "      <td>61</td>\n",
       "      <td>0</td>\n",
       "      <td>3</td>\n",
       "      <td>Sirayanian, Mr. Orsen</td>\n",
       "      <td>male</td>\n",
       "      <td>22.0</td>\n",
       "      <td>0</td>\n",
       "      <td>0</td>\n",
       "      <td>2669</td>\n",
       "      <td>7.2292</td>\n",
       "      <td>NaN</td>\n",
       "      <td>C</td>\n",
       "    </tr>\n",
       "    <tr>\n",
       "      <th>121</th>\n",
       "      <td>122</td>\n",
       "      <td>0</td>\n",
       "      <td>3</td>\n",
       "      <td>Moore, Mr. Leonard Charles</td>\n",
       "      <td>male</td>\n",
       "      <td>NaN</td>\n",
       "      <td>0</td>\n",
       "      <td>0</td>\n",
       "      <td>A4. 54510</td>\n",
       "      <td>8.0500</td>\n",
       "      <td>NaN</td>\n",
       "      <td>S</td>\n",
       "    </tr>\n",
       "    <tr>\n",
       "      <th>432</th>\n",
       "      <td>433</td>\n",
       "      <td>1</td>\n",
       "      <td>2</td>\n",
       "      <td>Louch, Mrs. Charles Alexander (Alice Adelaide ...</td>\n",
       "      <td>female</td>\n",
       "      <td>42.0</td>\n",
       "      <td>1</td>\n",
       "      <td>0</td>\n",
       "      <td>SC/AH 3085</td>\n",
       "      <td>26.0000</td>\n",
       "      <td>NaN</td>\n",
       "      <td>S</td>\n",
       "    </tr>\n",
       "  </tbody>\n",
       "</table>\n",
       "</div>"
      ],
      "text/plain": [
       "     PassengerId  Survived  Pclass  \\\n",
       "292          293         0       2   \n",
       "11            12         1       1   \n",
       "60            61         0       3   \n",
       "121          122         0       3   \n",
       "432          433         1       2   \n",
       "\n",
       "                                                  Name     Sex   Age  SibSp  \\\n",
       "292                             Levy, Mr. Rene Jacques    male  36.0      0   \n",
       "11                            Bonnell, Miss. Elizabeth  female  58.0      0   \n",
       "60                               Sirayanian, Mr. Orsen    male  22.0      0   \n",
       "121                         Moore, Mr. Leonard Charles    male   NaN      0   \n",
       "432  Louch, Mrs. Charles Alexander (Alice Adelaide ...  female  42.0      1   \n",
       "\n",
       "     Parch         Ticket     Fare Cabin Embarked  \n",
       "292      0  SC/Paris 2163  12.8750     D        C  \n",
       "11       0         113783  26.5500  C103        S  \n",
       "60       0           2669   7.2292   NaN        C  \n",
       "121      0      A4. 54510   8.0500   NaN        S  \n",
       "432      0     SC/AH 3085  26.0000   NaN        S  "
      ]
     },
     "execution_count": 3,
     "metadata": {},
     "output_type": "execute_result"
    }
   ],
   "source": [
    "# Quick examination\n",
    "\n",
    "dt_train_raw.sample(5)  "
   ]
  },
  {
   "cell_type": "code",
   "execution_count": 4,
   "metadata": {
    "collapsed": false
   },
   "outputs": [
    {
     "data": {
      "text/html": [
       "<div>\n",
       "<table border=\"1\" class=\"dataframe\">\n",
       "  <thead>\n",
       "    <tr style=\"text-align: right;\">\n",
       "      <th></th>\n",
       "      <th>PassengerId</th>\n",
       "      <th>Survived</th>\n",
       "      <th>Pclass</th>\n",
       "      <th>Age</th>\n",
       "      <th>SibSp</th>\n",
       "      <th>Parch</th>\n",
       "      <th>Fare</th>\n",
       "    </tr>\n",
       "  </thead>\n",
       "  <tbody>\n",
       "    <tr>\n",
       "      <th>count</th>\n",
       "      <td>891.000000</td>\n",
       "      <td>891.000000</td>\n",
       "      <td>891.000000</td>\n",
       "      <td>714.000000</td>\n",
       "      <td>891.000000</td>\n",
       "      <td>891.000000</td>\n",
       "      <td>891.000000</td>\n",
       "    </tr>\n",
       "    <tr>\n",
       "      <th>mean</th>\n",
       "      <td>446.000000</td>\n",
       "      <td>0.383838</td>\n",
       "      <td>2.308642</td>\n",
       "      <td>29.699118</td>\n",
       "      <td>0.523008</td>\n",
       "      <td>0.381594</td>\n",
       "      <td>32.204208</td>\n",
       "    </tr>\n",
       "    <tr>\n",
       "      <th>std</th>\n",
       "      <td>257.353842</td>\n",
       "      <td>0.486592</td>\n",
       "      <td>0.836071</td>\n",
       "      <td>14.526497</td>\n",
       "      <td>1.102743</td>\n",
       "      <td>0.806057</td>\n",
       "      <td>49.693429</td>\n",
       "    </tr>\n",
       "    <tr>\n",
       "      <th>min</th>\n",
       "      <td>1.000000</td>\n",
       "      <td>0.000000</td>\n",
       "      <td>1.000000</td>\n",
       "      <td>0.420000</td>\n",
       "      <td>0.000000</td>\n",
       "      <td>0.000000</td>\n",
       "      <td>0.000000</td>\n",
       "    </tr>\n",
       "    <tr>\n",
       "      <th>25%</th>\n",
       "      <td>223.500000</td>\n",
       "      <td>0.000000</td>\n",
       "      <td>2.000000</td>\n",
       "      <td>20.125000</td>\n",
       "      <td>0.000000</td>\n",
       "      <td>0.000000</td>\n",
       "      <td>7.910400</td>\n",
       "    </tr>\n",
       "    <tr>\n",
       "      <th>50%</th>\n",
       "      <td>446.000000</td>\n",
       "      <td>0.000000</td>\n",
       "      <td>3.000000</td>\n",
       "      <td>28.000000</td>\n",
       "      <td>0.000000</td>\n",
       "      <td>0.000000</td>\n",
       "      <td>14.454200</td>\n",
       "    </tr>\n",
       "    <tr>\n",
       "      <th>75%</th>\n",
       "      <td>668.500000</td>\n",
       "      <td>1.000000</td>\n",
       "      <td>3.000000</td>\n",
       "      <td>38.000000</td>\n",
       "      <td>1.000000</td>\n",
       "      <td>0.000000</td>\n",
       "      <td>31.000000</td>\n",
       "    </tr>\n",
       "    <tr>\n",
       "      <th>max</th>\n",
       "      <td>891.000000</td>\n",
       "      <td>1.000000</td>\n",
       "      <td>3.000000</td>\n",
       "      <td>80.000000</td>\n",
       "      <td>8.000000</td>\n",
       "      <td>6.000000</td>\n",
       "      <td>512.329200</td>\n",
       "    </tr>\n",
       "  </tbody>\n",
       "</table>\n",
       "</div>"
      ],
      "text/plain": [
       "       PassengerId    Survived      Pclass         Age       SibSp  \\\n",
       "count   891.000000  891.000000  891.000000  714.000000  891.000000   \n",
       "mean    446.000000    0.383838    2.308642   29.699118    0.523008   \n",
       "std     257.353842    0.486592    0.836071   14.526497    1.102743   \n",
       "min       1.000000    0.000000    1.000000    0.420000    0.000000   \n",
       "25%     223.500000    0.000000    2.000000   20.125000    0.000000   \n",
       "50%     446.000000    0.000000    3.000000   28.000000    0.000000   \n",
       "75%     668.500000    1.000000    3.000000   38.000000    1.000000   \n",
       "max     891.000000    1.000000    3.000000   80.000000    8.000000   \n",
       "\n",
       "            Parch        Fare  \n",
       "count  891.000000  891.000000  \n",
       "mean     0.381594   32.204208  \n",
       "std      0.806057   49.693429  \n",
       "min      0.000000    0.000000  \n",
       "25%      0.000000    7.910400  \n",
       "50%      0.000000   14.454200  \n",
       "75%      0.000000   31.000000  \n",
       "max      6.000000  512.329200  "
      ]
     },
     "execution_count": 4,
     "metadata": {},
     "output_type": "execute_result"
    }
   ],
   "source": [
    "dt_train_raw.describe()"
   ]
  },
  {
   "cell_type": "code",
   "execution_count": 5,
   "metadata": {
    "collapsed": false
   },
   "outputs": [
    {
     "data": {
      "text/html": [
       "<div>\n",
       "<table border=\"1\" class=\"dataframe\">\n",
       "  <thead>\n",
       "    <tr style=\"text-align: right;\">\n",
       "      <th></th>\n",
       "      <th>PassengerId</th>\n",
       "      <th>Pclass</th>\n",
       "      <th>Age</th>\n",
       "      <th>SibSp</th>\n",
       "      <th>Parch</th>\n",
       "      <th>Fare</th>\n",
       "    </tr>\n",
       "  </thead>\n",
       "  <tbody>\n",
       "    <tr>\n",
       "      <th>count</th>\n",
       "      <td>418.000000</td>\n",
       "      <td>418.000000</td>\n",
       "      <td>332.000000</td>\n",
       "      <td>418.000000</td>\n",
       "      <td>418.000000</td>\n",
       "      <td>417.000000</td>\n",
       "    </tr>\n",
       "    <tr>\n",
       "      <th>mean</th>\n",
       "      <td>1100.500000</td>\n",
       "      <td>2.265550</td>\n",
       "      <td>30.272590</td>\n",
       "      <td>0.447368</td>\n",
       "      <td>0.392344</td>\n",
       "      <td>35.627188</td>\n",
       "    </tr>\n",
       "    <tr>\n",
       "      <th>std</th>\n",
       "      <td>120.810458</td>\n",
       "      <td>0.841838</td>\n",
       "      <td>14.181209</td>\n",
       "      <td>0.896760</td>\n",
       "      <td>0.981429</td>\n",
       "      <td>55.907576</td>\n",
       "    </tr>\n",
       "    <tr>\n",
       "      <th>min</th>\n",
       "      <td>892.000000</td>\n",
       "      <td>1.000000</td>\n",
       "      <td>0.170000</td>\n",
       "      <td>0.000000</td>\n",
       "      <td>0.000000</td>\n",
       "      <td>0.000000</td>\n",
       "    </tr>\n",
       "    <tr>\n",
       "      <th>25%</th>\n",
       "      <td>996.250000</td>\n",
       "      <td>1.000000</td>\n",
       "      <td>21.000000</td>\n",
       "      <td>0.000000</td>\n",
       "      <td>0.000000</td>\n",
       "      <td>7.895800</td>\n",
       "    </tr>\n",
       "    <tr>\n",
       "      <th>50%</th>\n",
       "      <td>1100.500000</td>\n",
       "      <td>3.000000</td>\n",
       "      <td>27.000000</td>\n",
       "      <td>0.000000</td>\n",
       "      <td>0.000000</td>\n",
       "      <td>14.454200</td>\n",
       "    </tr>\n",
       "    <tr>\n",
       "      <th>75%</th>\n",
       "      <td>1204.750000</td>\n",
       "      <td>3.000000</td>\n",
       "      <td>39.000000</td>\n",
       "      <td>1.000000</td>\n",
       "      <td>0.000000</td>\n",
       "      <td>31.500000</td>\n",
       "    </tr>\n",
       "    <tr>\n",
       "      <th>max</th>\n",
       "      <td>1309.000000</td>\n",
       "      <td>3.000000</td>\n",
       "      <td>76.000000</td>\n",
       "      <td>8.000000</td>\n",
       "      <td>9.000000</td>\n",
       "      <td>512.329200</td>\n",
       "    </tr>\n",
       "  </tbody>\n",
       "</table>\n",
       "</div>"
      ],
      "text/plain": [
       "       PassengerId      Pclass         Age       SibSp       Parch        Fare\n",
       "count   418.000000  418.000000  332.000000  418.000000  418.000000  417.000000\n",
       "mean   1100.500000    2.265550   30.272590    0.447368    0.392344   35.627188\n",
       "std     120.810458    0.841838   14.181209    0.896760    0.981429   55.907576\n",
       "min     892.000000    1.000000    0.170000    0.000000    0.000000    0.000000\n",
       "25%     996.250000    1.000000   21.000000    0.000000    0.000000    7.895800\n",
       "50%    1100.500000    3.000000   27.000000    0.000000    0.000000   14.454200\n",
       "75%    1204.750000    3.000000   39.000000    1.000000    0.000000   31.500000\n",
       "max    1309.000000    3.000000   76.000000    8.000000    9.000000  512.329200"
      ]
     },
     "execution_count": 5,
     "metadata": {},
     "output_type": "execute_result"
    }
   ],
   "source": [
    "dt_test_raw.describe()"
   ]
  },
  {
   "cell_type": "markdown",
   "metadata": {},
   "source": [
    "From the get go, it's probably a safe bet that survival rates going to be heavily correlated with passenger class, sex, and age, given what we all probably remember from David Cameron's totally-accurate documentary from the 90s. \n",
    "\n",
    "There are 891 entries in the train set and 418 in the test set. How many empty/NaN entires are there?"
   ]
  },
  {
   "cell_type": "code",
   "execution_count": 6,
   "metadata": {
    "collapsed": false
   },
   "outputs": [
    {
     "name": "stdout",
     "output_type": "stream",
     "text": [
      "NaNs in train set:\n",
      "PassengerId :  0\n",
      "Pclass :  0\n",
      "Name :  0\n",
      "Sex :  0\n",
      "Age :  177\n",
      "SibSp :  0\n",
      "Parch :  0\n",
      "Ticket :  0\n",
      "Fare :  0\n",
      "Cabin :  687\n",
      "Embarked :  2\n",
      "NaNs in test set:\n",
      "PassengerId :  0\n",
      "Pclass :  0\n",
      "Name :  0\n",
      "Sex :  0\n",
      "Age :  86\n",
      "SibSp :  0\n",
      "Parch :  0\n",
      "Ticket :  0\n",
      "Fare :  1\n",
      "Cabin :  327\n",
      "Embarked :  0\n"
     ]
    }
   ],
   "source": [
    "# checking for NaNs\n",
    "\n",
    "cols = dt_train_raw.columns.drop('Survived')\n",
    "\n",
    "print('NaNs in train set:')\n",
    "for col in cols:\n",
    "    val = sum(dt_train_raw[col].isnull())\n",
    "    print(col, ': ', val)\n",
    "    \n",
    "print('NaNs in test set:')\n",
    "for col in cols:\n",
    "    val = sum(dt_test_raw[col].isnull())\n",
    "    print(col, ': ', val) "
   ]
  },
  {
   "cell_type": "markdown",
   "metadata": {},
   "source": [
    "There are lots of empty entries in the 'Cabin' and 'Age' columns that we'll need to be mindful of as we proceed. "
   ]
  },
  {
   "cell_type": "markdown",
   "metadata": {},
   "source": [
    "## <a name=\"pclass\">Pclass</a>"
   ]
  },
  {
   "cell_type": "code",
   "execution_count": 7,
   "metadata": {
    "collapsed": false
   },
   "outputs": [
    {
     "data": {
      "text/plain": [
       "<matplotlib.axes._subplots.AxesSubplot at 0x118ec1f98>"
      ]
     },
     "execution_count": 7,
     "metadata": {},
     "output_type": "execute_result"
    },
    {
     "data": {
      "image/png": "[encoded data removed]",
      "text/plain": [
       "<matplotlib.figure.Figure at 0x10ebb95f8>"
      ]
     },
     "metadata": {},
     "output_type": "display_data"
    }
   ],
   "source": [
    "# Survival rates by Pclass, for men and women\n",
    "\n",
    "sns.barplot(x='Pclass', y='Survived', hue='Sex', data=dt_train_raw)"
   ]
  },
  {
   "cell_type": "markdown",
   "metadata": {},
   "source": [
    "No surprises here, given our initial assumptions: passengers are much more likely to have survived if they were 1) women, 2) in 1st class (or in 1st/2nd classes for women). \n",
    "\n",
    "There is not really anything we need to do to the data in this column, so let's move on."
   ]
  },
  {
   "cell_type": "markdown",
   "metadata": {},
   "source": [
    "## <a name=\"name\">Name</a>"
   ]
  },
  {
   "cell_type": "code",
   "execution_count": 8,
   "metadata": {
    "collapsed": false
   },
   "outputs": [
    {
     "data": {
      "text/plain": [
       "555                                   Wright, Mr. George\n",
       "429                   Pickard, Mr. Berk (Berk Trembisky)\n",
       "96                             Goldschmidt, Mr. George B\n",
       "53     Faunthorpe, Mrs. Lizzie (Elizabeth Anne Wilkin...\n",
       "755                            Hamalainen, Master. Viljo\n",
       "762                                Barah, Mr. Hanna Assi\n",
       "596                           Leitch, Miss. Jessie Wills\n",
       "407                       Richards, Master. William Rowe\n",
       "738                                   Ivanoff, Mr. Kanio\n",
       "592                           Elsbury, Mr. William James\n",
       "67                              Crease, Mr. Ernest James\n",
       "791                                  Gaskell, Mr. Alfred\n",
       "218                                Bazzani, Miss. Albina\n",
       "565                                 Davies, Mr. Alfred J\n",
       "170                            Van der hoef, Mr. Wyckoff\n",
       "843                           Lemberopolous, Mr. Peter L\n",
       "21                                 Beesley, Mr. Lawrence\n",
       "530                             Quick, Miss. Phyllis May\n",
       "787                            Rice, Master. George Hugh\n",
       "75                               Moen, Mr. Sigurd Hansen\n",
       "Name: Name, dtype: object"
      ]
     },
     "execution_count": 8,
     "metadata": {},
     "output_type": "execute_result"
    }
   ],
   "source": [
    "dt_train_raw.Name.sample(20)"
   ]
  },
  {
   "cell_type": "markdown",
   "metadata": {},
   "source": [
    "Luckily for us, the names are all consistently formatted. \n",
    "\n",
    "It's probably a safe bet to go ahead and assume that the passengers' last names and name prefixes (i.e. Mr, Mrs, etc) are the most important features here, so we'll go ahead parse these."
   ]
  },
  {
   "cell_type": "code",
   "execution_count": 9,
   "metadata": {
    "collapsed": true
   },
   "outputs": [],
   "source": [
    "# I like to make a copy of the 'raw' data before doing modifications.\n",
    "\n",
    "dt_train = dt_train_raw\n",
    "dt_test = dt_test_raw"
   ]
  },
  {
   "cell_type": "code",
   "execution_count": 10,
   "metadata": {
    "collapsed": false
   },
   "outputs": [
    {
     "data": {
      "text/html": [
       "<div>\n",
       "<table border=\"1\" class=\"dataframe\">\n",
       "  <thead>\n",
       "    <tr style=\"text-align: right;\">\n",
       "      <th></th>\n",
       "      <th>PassengerId</th>\n",
       "      <th>Survived</th>\n",
       "      <th>Pclass</th>\n",
       "      <th>Sex</th>\n",
       "      <th>Age</th>\n",
       "      <th>SibSp</th>\n",
       "      <th>Parch</th>\n",
       "      <th>Ticket</th>\n",
       "      <th>Fare</th>\n",
       "      <th>Cabin</th>\n",
       "      <th>Embarked</th>\n",
       "      <th>Last_name</th>\n",
       "      <th>Name_prefix</th>\n",
       "    </tr>\n",
       "  </thead>\n",
       "  <tbody>\n",
       "    <tr>\n",
       "      <th>315</th>\n",
       "      <td>316</td>\n",
       "      <td>1</td>\n",
       "      <td>3</td>\n",
       "      <td>female</td>\n",
       "      <td>26.00</td>\n",
       "      <td>0</td>\n",
       "      <td>0</td>\n",
       "      <td>347470</td>\n",
       "      <td>7.8542</td>\n",
       "      <td>NaN</td>\n",
       "      <td>S</td>\n",
       "      <td>Nilsson</td>\n",
       "      <td>Miss.</td>\n",
       "    </tr>\n",
       "    <tr>\n",
       "      <th>831</th>\n",
       "      <td>832</td>\n",
       "      <td>1</td>\n",
       "      <td>2</td>\n",
       "      <td>male</td>\n",
       "      <td>0.83</td>\n",
       "      <td>1</td>\n",
       "      <td>1</td>\n",
       "      <td>29106</td>\n",
       "      <td>18.7500</td>\n",
       "      <td>NaN</td>\n",
       "      <td>S</td>\n",
       "      <td>Richards</td>\n",
       "      <td>Master.</td>\n",
       "    </tr>\n",
       "    <tr>\n",
       "      <th>197</th>\n",
       "      <td>198</td>\n",
       "      <td>0</td>\n",
       "      <td>3</td>\n",
       "      <td>male</td>\n",
       "      <td>42.00</td>\n",
       "      <td>0</td>\n",
       "      <td>1</td>\n",
       "      <td>4579</td>\n",
       "      <td>8.4042</td>\n",
       "      <td>NaN</td>\n",
       "      <td>S</td>\n",
       "      <td>Olsen</td>\n",
       "      <td>Mr.</td>\n",
       "    </tr>\n",
       "  </tbody>\n",
       "</table>\n",
       "</div>"
      ],
      "text/plain": [
       "     PassengerId  Survived  Pclass     Sex    Age  SibSp  Parch  Ticket  \\\n",
       "315          316         1       3  female  26.00      0      0  347470   \n",
       "831          832         1       2    male   0.83      1      1   29106   \n",
       "197          198         0       3    male  42.00      0      1    4579   \n",
       "\n",
       "        Fare Cabin Embarked Last_name Name_prefix  \n",
       "315   7.8542   NaN        S   Nilsson       Miss.  \n",
       "831  18.7500   NaN        S  Richards     Master.  \n",
       "197   8.4042   NaN        S     Olsen         Mr.  "
      ]
     },
     "execution_count": 10,
     "metadata": {},
     "output_type": "execute_result"
    }
   ],
   "source": [
    "# Take last name and prefix from the passenger names, drop the rest\n",
    "\n",
    "dt_train['Last_name'] = dt_train.Name.apply(lambda x: x.split(', ')[0])\n",
    "dt_train['Name_prefix'] = dt_train.Name.apply(lambda x: x.split(', ')[1].split(' ')[0]) \n",
    "\n",
    "dt_test['Last_name'] = dt_test.Name.apply(lambda x: x.split(', ')[0])\n",
    "dt_test['Name_prefix'] = dt_test.Name.apply(lambda x: x.split(', ')[1].split(' ')[0])\n",
    "\n",
    "dt_train = dt_train.drop('Name', axis=1)\n",
    "dt_test = dt_test.drop('Name', axis=1)\n",
    "\n",
    "dt_train.sample(3)"
   ]
  },
  {
   "cell_type": "markdown",
   "metadata": {},
   "source": [
    "What are the unique name prefixes in the entire train+test set?"
   ]
  },
  {
   "cell_type": "code",
   "execution_count": 11,
   "metadata": {
    "collapsed": false
   },
   "outputs": [
    {
     "data": {
      "text/plain": [
       "Mr.          757\n",
       "Miss.        260\n",
       "Mrs.         197\n",
       "Master.       61\n",
       "Rev.           8\n",
       "Dr.            8\n",
       "Col.           4\n",
       "Mlle.          2\n",
       "Ms.            2\n",
       "Major.         2\n",
       "the            1\n",
       "Capt.          1\n",
       "Jonkheer.      1\n",
       "Sir.           1\n",
       "Dona.          1\n",
       "Lady.          1\n",
       "Don.           1\n",
       "Mme.           1\n",
       "Name: Name_prefix, dtype: int64"
      ]
     },
     "execution_count": 11,
     "metadata": {},
     "output_type": "execute_result"
    }
   ],
   "source": [
    "# Examine prefixes \n",
    "\n",
    "prefixes = pd.concat([dt_train['Name_prefix'], dt_test['Name_prefix']])\n",
    "prefixes.value_counts()"
   ]
  },
  {
   "cell_type": "markdown",
   "metadata": {},
   "source": [
    "Mr, Miss, and Mrs are all probably obvious to English speaking folks. \n",
    "\n",
    "Mlle. is the French equivalent of Miss. , so we can substitute it to reduce dimensionality. Ms. can also be substituted with Miss.\n",
    "\n",
    "Mme. can be substituted with Mrs.\n",
    "\n",
    "Col., Major., and Capt. can all be folded into an 'Officer' title. \n",
    "\n",
    "Sir, Jonkheer, Dona, Lady, 'the', and Don are all honorific/nobility titles. We'll separate them by male and female honorifics. \n",
    "\n",
    "Rev. and Dr. are positions of relative esteem, so we'll combine those as well. \n",
    "\n",
    "Finally: 'Master' supposedly refers to young boys, specifically, according to Google (which is not what I would have expected). Let's verify this:"
   ]
  },
  {
   "cell_type": "code",
   "execution_count": 12,
   "metadata": {
    "collapsed": false
   },
   "outputs": [
    {
     "data": {
      "text/plain": [
       "count    36.000000\n",
       "mean      4.574167\n",
       "std       3.619872\n",
       "min       0.420000\n",
       "25%       1.000000\n",
       "50%       3.500000\n",
       "75%       8.000000\n",
       "max      12.000000\n",
       "Name: Age, dtype: float64"
      ]
     },
     "execution_count": 12,
     "metadata": {},
     "output_type": "execute_result"
    }
   ],
   "source": [
    "dt_train.Age.loc[(dt_train.Name_prefix=='Master.')].describe()"
   ]
  },
  {
   "cell_type": "code",
   "execution_count": 13,
   "metadata": {
    "collapsed": false
   },
   "outputs": [
    {
     "data": {
      "text/plain": [
       "count    17.000000\n",
       "mean      7.406471\n",
       "std       4.672470\n",
       "min       0.330000\n",
       "25%       5.000000\n",
       "50%       7.000000\n",
       "75%      11.500000\n",
       "max      14.500000\n",
       "Name: Age, dtype: float64"
      ]
     },
     "execution_count": 13,
     "metadata": {},
     "output_type": "execute_result"
    }
   ],
   "source": [
    "dt_test.Age.loc[(dt_test.Name_prefix=='Master.')].describe()"
   ]
  },
  {
   "cell_type": "code",
   "execution_count": 14,
   "metadata": {
    "collapsed": false
   },
   "outputs": [
    {
     "data": {
      "text/plain": [
       "male    40\n",
       "Name: Sex, dtype: int64"
      ]
     },
     "execution_count": 14,
     "metadata": {},
     "output_type": "execute_result"
    }
   ],
   "source": [
    "dt_train.Sex.loc[(dt_train.Name_prefix=='Master.')].value_counts()"
   ]
  },
  {
   "cell_type": "code",
   "execution_count": 15,
   "metadata": {
    "collapsed": false
   },
   "outputs": [
    {
     "data": {
      "text/plain": [
       "male    21\n",
       "Name: Sex, dtype: int64"
      ]
     },
     "execution_count": 15,
     "metadata": {},
     "output_type": "execute_result"
    }
   ],
   "source": [
    "dt_test.Sex.loc[(dt_test.Name_prefix=='Master.')].value_counts()"
   ]
  },
  {
   "cell_type": "markdown",
   "metadata": {},
   "source": [
    "... so yes, 'Master' does refer to boys under the age of 14 or so exclusively, which will be useful to know when we are filling in missing Age values later."
   ]
  },
  {
   "cell_type": "markdown",
   "metadata": {},
   "source": [
    "Now let's combine the various name prefixes in the manner discussed above:"
   ]
  },
  {
   "cell_type": "code",
   "execution_count": 16,
   "metadata": {
    "collapsed": true
   },
   "outputs": [],
   "source": [
    "# prefix dict:\n",
    "\n",
    "prefixes = {\n",
    "    'Mr.' : 'Mr',\n",
    "    'Mrs.' : 'Mrs', \n",
    "    'Miss.' : 'Miss', \n",
    "    'Master.' : 'Master', \n",
    "    'Don.' : 'NobleM',    # i.e. 'Male Nobility' \n",
    "    'Rev.' : 'RevDr',     \n",
    "    'Dr.' : 'RevDr',      # lump Rev and Dr together\n",
    "    'Mme.' : 'Mrs',\n",
    "    'Ms.' : 'Miss', \n",
    "    'Major.' : 'Officer', \n",
    "    'Lady.' : 'NobleF', \n",
    "    'Sir.' : 'NobleM',    # i.e. 'Female Nobility\" \n",
    "    'Mlle.' : 'Miss', \n",
    "    'Col.' : 'Officer', \n",
    "    'Capt.' : 'Officer', \n",
    "    'the' : 'NobleF',     # If you inspect the 'the' entry you will see a full title 'the Countess of...'\n",
    "    'Jonkheer.' : 'NobleM',\n",
    "    'Dona.' : 'NobleF'\n",
    "}"
   ]
  },
  {
   "cell_type": "code",
   "execution_count": 17,
   "metadata": {
    "collapsed": true
   },
   "outputs": [],
   "source": [
    "# Replace the name prefixes per the dict. above\n",
    "\n",
    "dt_train['Name_prefix'] = dt_train['Name_prefix'].apply(lambda x: prefixes[x])\n",
    "dt_test['Name_prefix'] = dt_test['Name_prefix'].apply(lambda x: prefixes[x])"
   ]
  },
  {
   "cell_type": "code",
   "execution_count": 18,
   "metadata": {
    "collapsed": false
   },
   "outputs": [
    {
     "data": {
      "text/plain": [
       "array(['Mr', 'Mrs', 'Miss', 'Master', 'NobleM', 'RevDr', 'Officer',\n",
       "       'NobleF'], dtype=object)"
      ]
     },
     "execution_count": 18,
     "metadata": {},
     "output_type": "execute_result"
    }
   ],
   "source": [
    "dt_train.Name_prefix.unique()"
   ]
  },
  {
   "cell_type": "markdown",
   "metadata": {},
   "source": [
    "I am curious what the passenger Sex breakdown looks like for Revs/Drs and Officers, since they are not otherwise implied: "
   ]
  },
  {
   "cell_type": "code",
   "execution_count": 19,
   "metadata": {
    "collapsed": false
   },
   "outputs": [
    {
     "name": "stdout",
     "output_type": "stream",
     "text": [
      "male      12\n",
      "female     1\n",
      "Name: Sex, dtype: int64\n",
      "male    5\n",
      "Name: Sex, dtype: int64\n"
     ]
    }
   ],
   "source": [
    "print( dt_train.Sex.loc[(dt_train.Name_prefix=='RevDr')].value_counts() )\n",
    "print( dt_train.Sex.loc[(dt_train.Name_prefix=='Officer')].value_counts() )"
   ]
  },
  {
   "cell_type": "markdown",
   "metadata": {},
   "source": [
    "... so for the sake of discussion, Revs, Drs, and Officers are almost exclusively men. "
   ]
  },
  {
   "cell_type": "markdown",
   "metadata": {},
   "source": [
    "What do survival rates look like when sorted by Prefix?"
   ]
  },
  {
   "cell_type": "code",
   "execution_count": 20,
   "metadata": {
    "collapsed": false
   },
   "outputs": [
    {
     "data": {
      "text/plain": [
       "<matplotlib.axes._subplots.AxesSubplot at 0x118ec8b00>"
      ]
     },
     "execution_count": 20,
     "metadata": {},
     "output_type": "execute_result"
    },
    {
     "data": {
      "image/png": "[encoded data removed]",
      "text/plain": [
       "<matplotlib.figure.Figure at 0x10ec829b0>"
      ]
     },
     "metadata": {},
     "output_type": "display_data"
    }
   ],
   "source": [
    "# Survival rates by Name Prefix\n",
    "\n",
    "plt.subplots(1,1,figsize=(14,6))\n",
    "sns.barplot(x='Name_prefix', y='Survived', data=dt_train)"
   ]
  },
  {
   "cell_type": "markdown",
   "metadata": {},
   "source": [
    "Clearly we can see that among males, it was useful to have been a boy (Master), someone of status (NobleM), or a military Officer. "
   ]
  },
  {
   "cell_type": "markdown",
   "metadata": {},
   "source": [
    "## <a name=\"sex\">Sex</a>"
   ]
  },
  {
   "cell_type": "markdown",
   "metadata": {},
   "source": [
    "We already have a good intuition for survival odds by Sex:"
   ]
  },
  {
   "cell_type": "code",
   "execution_count": 21,
   "metadata": {
    "collapsed": false
   },
   "outputs": [
    {
     "data": {
      "text/plain": [
       "<matplotlib.axes._subplots.AxesSubplot at 0x11c4844e0>"
      ]
     },
     "execution_count": 21,
     "metadata": {},
     "output_type": "execute_result"
    },
    {
     "data": {
      "image/png": "[encoded data removed]",
      "text/plain": [
       "<matplotlib.figure.Figure at 0x11c263be0>"
      ]
     },
     "metadata": {},
     "output_type": "display_data"
    }
   ],
   "source": [
    "# Survival rates by Sex\n",
    "\n",
    "sns.barplot(x='Sex', y='Survived', data=dt_train)"
   ]
  },
  {
   "cell_type": "markdown",
   "metadata": {},
   "source": [
    "... women were substantially more likely to survive than men, as we have seen.\n",
    "\n",
    "There is not much more that needs to be done to the data in this column."
   ]
  },
  {
   "cell_type": "markdown",
   "metadata": {},
   "source": [
    "## <a name=\"Age\">Age</a>"
   ]
  },
  {
   "cell_type": "markdown",
   "metadata": {},
   "source": [
    "We already have a good intuition that passenger Age will have a significant effect on their survival odds. We'll have some work to do in this column to fill in all of the missing values in a meaningful way. Simply taking the mean or median won't really cut it.\n",
    "\n",
    "First off, though: Let's look at survival rates by age, separated by old school gender, just to get a feel for things:"
   ]
  },
  {
   "cell_type": "code",
   "execution_count": 22,
   "metadata": {
    "collapsed": false
   },
   "outputs": [
    {
     "data": {
      "image/png": "[encoded data removed]",
      "text/plain": [
       "<matplotlib.figure.Figure at 0x11c63d358>"
      ]
     },
     "metadata": {},
     "output_type": "display_data"
    }
   ],
   "source": [
    "plt.subplots(1,1,figsize=(30,6))\n",
    "sns.barplot(x=\"Age\", y=\"Survived\", hue='Sex', data=dt_train,\n",
    "              palette={\"male\": \"blue\", \"female\": \"pink\"}, ci=None);"
   ]
  },
  {
   "cell_type": "markdown",
   "metadata": {},
   "source": [
    "Clearly, survival rates for men drops off rapidly beyond the age of 12 or so. \n",
    "\n",
    "For women, survival rates generally dip between the ages of 13 and 50 and seem to be best beyond of 50. Within this middle range, women who are 32-36 seem to have better odds than the rest--maybe this is a typical age for mothers accompanying children onto the lifeboats?"
   ]
  },
  {
   "cell_type": "markdown",
   "metadata": {},
   "source": [
    "Let's work on filling in the missing entries. We would like to use other data on these passengers to try and infer their age (at least to a best guess). \n",
    "\n",
    "Odds are that passenger ages are correlated to their Name Prefix (i.e. we already know that 'Master' is for boys, and it's probable that Nobility are older folks, etc). There are probably similar correlations for Pclass, Sex, etc. Let's explore a bit:"
   ]
  },
  {
   "cell_type": "code",
   "execution_count": 23,
   "metadata": {
    "collapsed": false
   },
   "outputs": [
    {
     "data": {
      "image/png": "[encoded data removed]",
      "text/plain": [
       "<matplotlib.figure.Figure at 0x11c691e48>"
      ]
     },
     "metadata": {},
     "output_type": "display_data"
    }
   ],
   "source": [
    "# Ages per Name Prefix\n",
    "\n",
    "plt.subplots(1,1,figsize=(14,6))\n",
    "sns.barplot(x=\"Name_prefix\", y=\"Age\", data=dt_train);"
   ]
  },
  {
   "cell_type": "markdown",
   "metadata": {},
   "source": [
    "This is a good start. Can we break it down even more?"
   ]
  },
  {
   "cell_type": "code",
   "execution_count": 24,
   "metadata": {
    "collapsed": false
   },
   "outputs": [
    {
     "data": {
      "image/png": "[encoded data removed]",
      "text/plain": [
       "<matplotlib.figure.Figure at 0x11c698588>"
      ]
     },
     "metadata": {},
     "output_type": "display_data"
    }
   ],
   "source": [
    "# Ages per Name Prefix, sorted by Pclass\n",
    "\n",
    "plt.subplots(1,1,figsize=(14,6))\n",
    "sns.barplot(x=\"Name_prefix\", y=\"Age\", hue=\"Pclass\", data=dt_train);"
   ]
  },
  {
   "cell_type": "markdown",
   "metadata": {},
   "source": [
    "Since all of our Name Prefixes already account for passenger Sex pretty thoroughly, it would be redundant to break the ages down further by Sex. \n",
    "\n",
    "This should be sufficient detail then for filling in the missing ages. If we aren't satisfied with our model's accuracy later, we can reconsider a more in-depth breakdown of ages (i.e. considering things like Fare or Cabin which may indicate wealth, and therefore perhaps correlate with Age... etc). "
   ]
  },
  {
   "cell_type": "code",
   "execution_count": 25,
   "metadata": {
    "collapsed": false
   },
   "outputs": [
    {
     "data": {
      "text/plain": [
       "Pclass  Name_prefix\n",
       "1       Master          4.0\n",
       "        Miss           30.0\n",
       "        Mr             40.0\n",
       "        Mrs            40.0\n",
       "        NobleF         40.5\n",
       "        NobleM         40.0\n",
       "        Officer        56.0\n",
       "        RevDr          46.5\n",
       "2       Master          1.0\n",
       "        Miss           24.0\n",
       "        Mr             31.0\n",
       "        Mrs            32.0\n",
       "        RevDr          46.5\n",
       "3       Master          4.0\n",
       "        Miss           18.0\n",
       "        Mr             26.0\n",
       "        Mrs            31.0\n",
       "Name: Age, dtype: float64"
      ]
     },
     "execution_count": 25,
     "metadata": {},
     "output_type": "execute_result"
    }
   ],
   "source": [
    "# Median ages sorted by Pclass and Name Prefix:\n",
    "\n",
    "dt_train.groupby(['Pclass', 'Name_prefix' ]).Age.median()"
   ]
  },
  {
   "cell_type": "code",
   "execution_count": 26,
   "metadata": {
    "collapsed": true
   },
   "outputs": [],
   "source": [
    "# Apply median ages to NaN values:\n",
    "\n",
    "dt_train.Age = dt_train.groupby(['Pclass', 'Name_prefix' ]).Age.apply(lambda x: x.fillna( x.median())  )\n",
    "dt_test.Age = dt_test.groupby(['Pclass', 'Name_prefix' ]).Age.apply(lambda x: x.fillna( x.median())  )"
   ]
  },
  {
   "cell_type": "code",
   "execution_count": 27,
   "metadata": {
    "collapsed": false
   },
   "outputs": [
    {
     "name": "stdout",
     "output_type": "stream",
     "text": [
      "0\n",
      "0\n"
     ]
    }
   ],
   "source": [
    "print( sum( dt_train.Age.isnull() ) )\n",
    "print( sum( dt_test.Age.isnull() ) )"
   ]
  },
  {
   "cell_type": "markdown",
   "metadata": {},
   "source": [
    "## <a name=\"family\">SibSp and Parch</a>"
   ]
  },
  {
   "cell_type": "markdown",
   "metadata": {},
   "source": [
    "These two variables refer to the number of siblings/spouses and number of parents/children, respectively, that each passenger has on board. Let's have a glance at the survival rates based on these:"
   ]
  },
  {
   "cell_type": "code",
   "execution_count": 28,
   "metadata": {
    "collapsed": false
   },
   "outputs": [
    {
     "data": {
      "text/plain": [
       "<matplotlib.axes._subplots.AxesSubplot at 0x11ca50e10>"
      ]
     },
     "execution_count": 28,
     "metadata": {},
     "output_type": "execute_result"
    },
    {
     "data": {
      "image/png": "[encoded data removed]",
      "text/plain": [
       "<matplotlib.figure.Figure at 0x10e6b5c18>"
      ]
     },
     "metadata": {},
     "output_type": "display_data"
    }
   ],
   "source": [
    "# Survival rates based on Parch\n",
    "\n",
    "sns.barplot(x='Parch', y='Survived', hue='Sex', data=dt_train)"
   ]
  },
  {
   "cell_type": "code",
   "execution_count": 29,
   "metadata": {
    "collapsed": false
   },
   "outputs": [
    {
     "data": {
      "text/plain": [
       "<matplotlib.axes._subplots.AxesSubplot at 0x11c843160>"
      ]
     },
     "execution_count": 29,
     "metadata": {},
     "output_type": "execute_result"
    },
    {
     "data": {
      "image/png": "[encoded data removed]",
      "text/plain": [
       "<matplotlib.figure.Figure at 0x11c857630>"
      ]
     },
     "metadata": {},
     "output_type": "display_data"
    }
   ],
   "source": [
    "# Survival rates based on SibSp\n",
    "\n",
    "sns.barplot(x='SibSp', y='Survived', hue='Sex', data=dt_train)"
   ]
  },
  {
   "cell_type": "markdown",
   "metadata": {},
   "source": [
    "It seems as though survival rates go down for those with larger families on board. I'd bet this is because families didn't want to be separated, and larger families would've been less likely to get into the lifeboats all together. \n",
    "\n",
    "Since these tell a similar tale, we might want to combine them into a single variable describing simply the number of relatives on board:"
   ]
  },
  {
   "cell_type": "code",
   "execution_count": 30,
   "metadata": {
    "collapsed": false
   },
   "outputs": [
    {
     "data": {
      "text/plain": [
       "<matplotlib.axes._subplots.AxesSubplot at 0x11ca179b0>"
      ]
     },
     "execution_count": 30,
     "metadata": {},
     "output_type": "execute_result"
    },
    {
     "data": {
      "image/png": "[encoded data removed]",
      "text/plain": [
       "<matplotlib.figure.Figure at 0x11cba8a90>"
      ]
     },
     "metadata": {},
     "output_type": "display_data"
    }
   ],
   "source": [
    "# Look at survival rates based on total number of relatives on board\n",
    "\n",
    "dt_train['Num_relatives'] = dt_train.SibSp + dt_train.Parch\n",
    "dt_test['Num_relatives'] = dt_test.SibSp + dt_test.Parch\n",
    "\n",
    "sns.barplot(x='Num_relatives', y='Survived', hue='Sex', data=dt_train)"
   ]
  },
  {
   "cell_type": "markdown",
   "metadata": {},
   "source": [
    "This is a lot more indicative for the men. Having 2 relatives on board doubles their survival odds vs. having none; having 3 relatives on board nearly triples them. \n",
    "\n",
    "For now, it will probably suffice to keep the combined column 'Num_relatives' and to drop SibSp and Parch. If we're not satisfied with our model later, we can revisit them and look for deeper patterns."
   ]
  },
  {
   "cell_type": "code",
   "execution_count": 31,
   "metadata": {
    "collapsed": true
   },
   "outputs": [],
   "source": [
    "dt_train = dt_train.drop(['SibSp', 'Parch'], axis=1)\n",
    "dt_test = dt_test.drop(['SibSp', 'Parch'], axis=1)"
   ]
  },
  {
   "cell_type": "markdown",
   "metadata": {},
   "source": [
    "## <a name=\"ticket\">Ticket</a>"
   ]
  },
  {
   "cell_type": "code",
   "execution_count": 32,
   "metadata": {
    "collapsed": false
   },
   "outputs": [
    {
     "data": {
      "text/plain": [
       "array(['A/5 21171', 'PC 17599', 'STON/O2. 3101282', '113803', '373450',\n",
       "       '330877', '17463', '349909', '347742', '237736', 'PP 9549',\n",
       "       '113783', 'A/5. 2151', '347082', '350406', '248706', '382652',\n",
       "       '244373', '345763', '2649', '239865', '248698', '330923', '113788',\n",
       "       '347077', '2631', '19950', '330959', '349216', 'PC 17601',\n",
       "       'PC 17569', '335677', 'C.A. 24579', 'PC 17604', '113789', '2677',\n",
       "       'A./5. 2152', '345764', '2651', '7546', '11668', '349253',\n",
       "       'SC/Paris 2123', '330958', 'S.C./A.4. 23567', '370371', '14311',\n",
       "       '2662', '349237', '3101295', 'A/4. 39886', 'PC 17572', '2926',\n",
       "       '113509', '19947', 'C.A. 31026', '2697', 'C.A. 34651', 'CA 2144',\n",
       "       '2669', '113572', '36973', '347088', 'PC 17605', '2661',\n",
       "       'C.A. 29395', 'S.P. 3464', '3101281', '315151', 'C.A. 33111',\n",
       "       'S.O.C. 14879', '2680', '1601', '348123', '349208', '374746',\n",
       "       '248738', '364516', '345767', '345779', '330932', '113059',\n",
       "       'SO/C 14885', '3101278', 'W./C. 6608', 'SOTON/OQ 392086', '343275',\n",
       "       '343276', '347466', 'W.E.P. 5734', 'C.A. 2315', '364500', '374910',\n",
       "       'PC 17754', 'PC 17759', '231919', '244367', '349245', '349215',\n",
       "       '35281', '7540', '3101276', '349207', '343120', '312991', '349249',\n",
       "       '371110', '110465', '2665', '324669', '4136', '2627',\n",
       "       'STON/O 2. 3101294', '370369', 'PC 17558', 'A4. 54510', '27267',\n",
       "       '370372', 'C 17369', '2668', '347061', '349241',\n",
       "       'SOTON/O.Q. 3101307', 'A/5. 3337', '228414', 'C.A. 29178',\n",
       "       'SC/PARIS 2133', '11752', '7534', 'PC 17593', '2678', '347081',\n",
       "       'STON/O2. 3101279', '365222', '231945', 'C.A. 33112', '350043',\n",
       "       '230080', '244310', 'S.O.P. 1166', '113776', 'A.5. 11206',\n",
       "       'A/5. 851', 'Fa 265302', 'PC 17597', '35851', 'SOTON/OQ 392090',\n",
       "       '315037', 'CA. 2343', '371362', 'C.A. 33595', '347068', '315093',\n",
       "       '363291', '113505', 'PC 17318', '111240', 'STON/O 2. 3101280',\n",
       "       '17764', '350404', '4133', 'PC 17595', '250653', 'LINE',\n",
       "       'SC/PARIS 2131', '230136', '315153', '113767', '370365', '111428',\n",
       "       '364849', '349247', '234604', '28424', '350046', 'PC 17610',\n",
       "       '368703', '4579', '370370', '248747', '345770', '3101264', '2628',\n",
       "       'A/5 3540', '347054', '2699', '367231', '112277',\n",
       "       'SOTON/O.Q. 3101311', 'F.C.C. 13528', 'A/5 21174', '250646',\n",
       "       '367229', '35273', 'STON/O2. 3101283', '243847', '11813',\n",
       "       'W/C 14208', 'SOTON/OQ 392089', '220367', '21440', '349234',\n",
       "       '19943', 'PP 4348', 'SW/PP 751', 'A/5 21173', '236171', '347067',\n",
       "       '237442', 'C.A. 29566', 'W./C. 6609', '26707', 'C.A. 31921',\n",
       "       '28665', 'SCO/W 1585', '367230', 'W./C. 14263', 'STON/O 2. 3101275',\n",
       "       '2694', '19928', '347071', '250649', '11751', '244252', '362316',\n",
       "       '113514', 'A/5. 3336', '370129', '2650', 'PC 17585', '110152',\n",
       "       'PC 17755', '230433', '384461', '110413', '112059', '382649',\n",
       "       'C.A. 17248', '347083', 'PC 17582', 'PC 17760', '113798', '250644',\n",
       "       'PC 17596', '370375', '13502', '347073', '239853', 'C.A. 2673',\n",
       "       '336439', '347464', '345778', 'A/5. 10482', '113056', '349239',\n",
       "       '345774', '349206', '237798', '370373', '19877', '11967',\n",
       "       'SC/Paris 2163', '349236', '349233', 'PC 17612', '2693', '113781',\n",
       "       '19988', '9234', '367226', '226593', 'A/5 2466', '17421',\n",
       "       'PC 17758', 'P/PP 3381', 'PC 17485', '11767', 'PC 17608', '250651',\n",
       "       '349243', 'F.C.C. 13529', '347470', '29011', '36928', '16966',\n",
       "       'A/5 21172', '349219', '234818', '345364', '28551', '111361',\n",
       "       '113043', 'PC 17611', '349225', '7598', '113784', '248740',\n",
       "       '244361', '229236', '248733', '31418', '386525', 'C.A. 37671',\n",
       "       '315088', '7267', '113510', '2695', '2647', '345783', '237671',\n",
       "       '330931', '330980', 'SC/PARIS 2167', '2691', 'SOTON/O.Q. 3101310',\n",
       "       'C 7076', '110813', '2626', '14313', 'PC 17477', '11765', '3101267',\n",
       "       '323951', 'C 7077', '113503', '2648', '347069', 'PC 17757', '2653',\n",
       "       'STON/O 2. 3101293', '349227', '27849', '367655', 'SC 1748',\n",
       "       '113760', '350034', '3101277', '350052', '350407', '28403',\n",
       "       '244278', '240929', 'STON/O 2. 3101289', '341826', '4137', '315096',\n",
       "       '28664', '347064', '29106', '312992', '349222', '394140',\n",
       "       'STON/O 2. 3101269', '343095', '28220', '250652', '28228', '345773',\n",
       "       '349254', 'A/5. 13032', '315082', '347080', 'A/4. 34244', '2003',\n",
       "       '250655', '364851', 'SOTON/O.Q. 392078', '110564', '376564',\n",
       "       'SC/AH 3085', 'STON/O 2. 3101274', '13507', 'C.A. 18723', '345769',\n",
       "       '347076', '230434', '65306', '33638', '113794', '2666', '113786',\n",
       "       '65303', '113051', '17453', 'A/5 2817', '349240', '13509', '17464',\n",
       "       'F.C.C. 13531', '371060', '19952', '364506', '111320', '234360',\n",
       "       'A/S 2816', 'SOTON/O.Q. 3101306', '113792', '36209', '323592',\n",
       "       '315089', 'SC/AH Basle 541', '7553', '31027', '3460', '350060',\n",
       "       '3101298', '239854', 'A/5 3594', '4134', '11771', 'A.5. 18509',\n",
       "       '65304', 'SOTON/OQ 3101317', '113787', 'PC 17609', 'A/4 45380',\n",
       "       '36947', 'C.A. 6212', '350035', '315086', '364846', '330909',\n",
       "       '4135', '26360', '111427', 'C 4001', '382651', 'SOTON/OQ 3101316',\n",
       "       'PC 17473', 'PC 17603', '349209', '36967', 'C.A. 34260', '226875',\n",
       "       '349242', '12749', '349252', '2624', '2700', '367232',\n",
       "       'W./C. 14258', 'PC 17483', '3101296', '29104', '2641', '2690',\n",
       "       '315084', '113050', 'PC 17761', '364498', '13568', 'WE/P 5735',\n",
       "       '2908', '693', 'SC/PARIS 2146', '244358', '330979', '2620',\n",
       "       '347085', '113807', '11755', '345572', '372622', '349251', '218629',\n",
       "       'SOTON/OQ 392082', 'SOTON/O.Q. 392087', 'A/4 48871', '349205',\n",
       "       '2686', '350417', 'S.W./PP 752', '11769', 'PC 17474', '14312',\n",
       "       'A/4. 20589', '358585', '243880', '2689', 'STON/O 2. 3101286',\n",
       "       '237789', '13049', '3411', '237565', '13567', '14973', 'A./5. 3235',\n",
       "       'STON/O 2. 3101273', 'A/5 3902', '364848', 'SC/AH 29037', '248727',\n",
       "       '2664', '349214', '113796', '364511', '111426', '349910', '349246',\n",
       "       '113804', 'SOTON/O.Q. 3101305', '370377', '364512', '220845',\n",
       "       '31028', '2659', '11753', '350029', '54636', '36963', '219533',\n",
       "       '349224', '334912', '27042', '347743', '13214', '112052', '237668',\n",
       "       'STON/O 2. 3101292', '350050', '349231', '13213', 'S.O./P.P. 751',\n",
       "       'CA. 2314', '349221', '8475', '330919', '365226', '349223', '29751',\n",
       "       '2623', '5727', '349210', 'STON/O 2. 3101285', '234686', '312993',\n",
       "       'A/5 3536', '19996', '29750', 'F.C. 12750', 'C.A. 24580', '244270',\n",
       "       '239856', '349912', '342826', '4138', '330935', '6563', '349228',\n",
       "       '350036', '24160', '17474', '349256', '2672', '113800', '248731',\n",
       "       '363592', '35852', '348121', 'PC 17475', '36864', '350025',\n",
       "       '223596', 'PC 17476', 'PC 17482', '113028', '7545', '250647',\n",
       "       '348124', '34218', '36568', '347062', '350048', '12233', '250643',\n",
       "       '113806', '315094', '36866', '236853', 'STON/O2. 3101271', '239855',\n",
       "       '28425', '233639', '349201', '349218', '16988', '376566',\n",
       "       'STON/O 2. 3101288', '250648', '113773', '335097', '29103',\n",
       "       '392096', '345780', '349204', '350042', '29108', '363294',\n",
       "       'SOTON/O2 3101272', '2663', '347074', '112379', '364850', '8471',\n",
       "       '345781', '350047', 'S.O./P.P. 3', '2674', '29105', '347078',\n",
       "       '383121', '36865', '2687', '113501', 'W./C. 6607',\n",
       "       'SOTON/O.Q. 3101312', '374887', '3101265', '12460', 'PC 17600',\n",
       "       '349203', '28213', '17465', '349244', '2685', '2625', '347089',\n",
       "       '347063', '112050', '347087', '248723', '3474', '28206', '364499',\n",
       "       '112058', 'STON/O2. 3101290', 'S.C./PARIS 2079', 'C 7075', '315098',\n",
       "       '19972', '368323', '367228', '2671', '347468', '2223', 'PC 17756',\n",
       "       '315097', '392092', '11774', 'SOTON/O2 3101287', '2683', '315090',\n",
       "       'C.A. 5547', '349213', '347060', 'PC 17592', '392091', '113055',\n",
       "       '2629', '350026', '28134', '17466', '233866', '236852',\n",
       "       'SC/PARIS 2149', 'PC 17590', '345777', '349248', '695', '345765',\n",
       "       '2667', '349212', '349217', '349257', '7552', 'C.A./SOTON 34068',\n",
       "       'SOTON/OQ 392076', '211536', '112053', '111369', '370376'], dtype=object)"
      ]
     },
     "execution_count": 32,
     "metadata": {},
     "output_type": "execute_result"
    }
   ],
   "source": [
    "dt_train.Ticket.unique()"
   ]
  },
  {
   "cell_type": "markdown",
   "metadata": {},
   "source": [
    "We can see that most ticket labels contained numbers only, but some contained letter prefixes of some sort. Let's separate the Ticket column into Ticket_prefix and Ticket_number columns. We can see above that ticket prefixes and ticket numbers are separated by white space, so we can exploit this."
   ]
  },
  {
   "cell_type": "code",
   "execution_count": 33,
   "metadata": {
    "collapsed": false
   },
   "outputs": [],
   "source": [
    "dt_train['Ticket_number'] = dt_train.Ticket.apply(lambda x: x.split(' ')[-1])\n",
    "dt_train['Ticket_prefix'] = dt_train.Ticket.apply(lambda x: x.split(' ')[0] if(len(x.split(' '))>1) else 'None' )\n",
    "\n",
    "dt_test['Ticket_number'] = dt_test.Ticket.apply(lambda x: x.split(' ')[-1])\n",
    "dt_test['Ticket_prefix'] = dt_test.Ticket.apply(lambda x: x.split(' ')[0] if(len(x.split(' '))>1) else 'None' )"
   ]
  },
  {
   "cell_type": "code",
   "execution_count": 34,
   "metadata": {
    "collapsed": false
   },
   "outputs": [
    {
     "data": {
      "text/plain": [
       "None          665\n",
       "PC             60\n",
       "C.A.           27\n",
       "STON/O         12\n",
       "A/5            10\n",
       "W./C.           9\n",
       "SOTON/O.Q.      8\n",
       "CA.             8\n",
       "A/5.            7\n",
       "SOTON/OQ        7\n",
       "CA              6\n",
       "STON/O2.        6\n",
       "C               5\n",
       "S.O.C.          5\n",
       "SC/PARIS        5\n",
       "F.C.C.          5\n",
       "SC/Paris        4\n",
       "S.O./P.P.       3\n",
       "A/4.            3\n",
       "PP              3\n",
       "A/4             3\n",
       "SC/AH           3\n",
       "P/PP            2\n",
       "S.C./PARIS      2\n",
       "SOTON/O2        2\n",
       "A.5.            2\n",
       "WE/P            2\n",
       "A./5.           2\n",
       "A4.             1\n",
       "S.O.P.          1\n",
       "A/S             1\n",
       "C.A./SOTON      1\n",
       "SO/C            1\n",
       "S.P.            1\n",
       "W/C             1\n",
       "S.C./A.4.       1\n",
       "S.W./PP         1\n",
       "F.C.            1\n",
       "SCO/W           1\n",
       "SC              1\n",
       "W.E.P.          1\n",
       "SW/PP           1\n",
       "Fa              1\n",
       "Name: Ticket_prefix, dtype: int64"
      ]
     },
     "execution_count": 34,
     "metadata": {},
     "output_type": "execute_result"
    }
   ],
   "source": [
    "dt_train.Ticket_prefix.value_counts()"
   ]
  },
  {
   "cell_type": "markdown",
   "metadata": {},
   "source": [
    "Any correlations between ticket prefix and Pclass?"
   ]
  },
  {
   "cell_type": "code",
   "execution_count": 35,
   "metadata": {
    "collapsed": false
   },
   "outputs": [
    {
     "data": {
      "text/plain": [
       "Pclass  Ticket_prefix\n",
       "1       None             152\n",
       "        PC                60\n",
       "        WE/P               2\n",
       "        F.C.               1\n",
       "        W.E.P.             1\n",
       "2       None             127\n",
       "        C.A.              19\n",
       "        F.C.C.             5\n",
       "        S.O.C.             5\n",
       "        SC/PARIS           5\n",
       "        SC/Paris           4\n",
       "        SC/AH              3\n",
       "        P/PP               2\n",
       "        S.C./PARIS         2\n",
       "        S.O./P.P.          2\n",
       "        W./C.              2\n",
       "        C.A./SOTON         1\n",
       "        S.O.P.             1\n",
       "        S.W./PP            1\n",
       "        SC                 1\n",
       "        SCO/W              1\n",
       "        SO/C               1\n",
       "        SW/PP              1\n",
       "        W/C                1\n",
       "3       None             386\n",
       "        STON/O            12\n",
       "        A/5               10\n",
       "        C.A.               8\n",
       "        CA.                8\n",
       "        SOTON/O.Q.         8\n",
       "        A/5.               7\n",
       "        SOTON/OQ           7\n",
       "        W./C.              7\n",
       "        CA                 6\n",
       "        STON/O2.           6\n",
       "        C                  5\n",
       "        A/4                3\n",
       "        A/4.               3\n",
       "        PP                 3\n",
       "        A./5.              2\n",
       "        A.5.               2\n",
       "        SOTON/O2           2\n",
       "        A/S                1\n",
       "        A4.                1\n",
       "        Fa                 1\n",
       "        S.C./A.4.          1\n",
       "        S.O./P.P.          1\n",
       "        S.P.               1\n",
       "Name: Ticket_prefix, dtype: int64"
      ]
     },
     "execution_count": 35,
     "metadata": {},
     "output_type": "execute_result"
    }
   ],
   "source": [
    "dt_train.groupby(['Pclass']).Ticket_prefix.value_counts()"
   ]
  },
  {
   "cell_type": "markdown",
   "metadata": {},
   "source": [
    "It would seem so.\n",
    "\n",
    "Let's go ahead and drop the original 'Ticket' column:"
   ]
  },
  {
   "cell_type": "code",
   "execution_count": 36,
   "metadata": {
    "collapsed": true
   },
   "outputs": [],
   "source": [
    "dt_train = dt_train.drop(['Ticket'], axis=1)\n",
    "dt_test = dt_test.drop(['Ticket'], axis=1)"
   ]
  },
  {
   "cell_type": "markdown",
   "metadata": {},
   "source": [
    "Finally, I'd like to convert 'Ticket_number' from strings into integers, but there are a couple of values which read 'LINE':"
   ]
  },
  {
   "cell_type": "code",
   "execution_count": 37,
   "metadata": {
    "collapsed": false
   },
   "outputs": [
    {
     "data": {
      "text/html": [
       "<div>\n",
       "<table border=\"1\" class=\"dataframe\">\n",
       "  <thead>\n",
       "    <tr style=\"text-align: right;\">\n",
       "      <th></th>\n",
       "      <th>PassengerId</th>\n",
       "      <th>Survived</th>\n",
       "      <th>Pclass</th>\n",
       "      <th>Sex</th>\n",
       "      <th>Age</th>\n",
       "      <th>Fare</th>\n",
       "      <th>Cabin</th>\n",
       "      <th>Embarked</th>\n",
       "      <th>Last_name</th>\n",
       "      <th>Name_prefix</th>\n",
       "      <th>Num_relatives</th>\n",
       "      <th>Ticket_number</th>\n",
       "      <th>Ticket_prefix</th>\n",
       "    </tr>\n",
       "  </thead>\n",
       "  <tbody>\n",
       "    <tr>\n",
       "      <th>179</th>\n",
       "      <td>180</td>\n",
       "      <td>0</td>\n",
       "      <td>3</td>\n",
       "      <td>male</td>\n",
       "      <td>36.0</td>\n",
       "      <td>0.0</td>\n",
       "      <td>NaN</td>\n",
       "      <td>S</td>\n",
       "      <td>Leonard</td>\n",
       "      <td>Mr</td>\n",
       "      <td>0</td>\n",
       "      <td>LINE</td>\n",
       "      <td>None</td>\n",
       "    </tr>\n",
       "    <tr>\n",
       "      <th>271</th>\n",
       "      <td>272</td>\n",
       "      <td>1</td>\n",
       "      <td>3</td>\n",
       "      <td>male</td>\n",
       "      <td>25.0</td>\n",
       "      <td>0.0</td>\n",
       "      <td>NaN</td>\n",
       "      <td>S</td>\n",
       "      <td>Tornquist</td>\n",
       "      <td>Mr</td>\n",
       "      <td>0</td>\n",
       "      <td>LINE</td>\n",
       "      <td>None</td>\n",
       "    </tr>\n",
       "    <tr>\n",
       "      <th>302</th>\n",
       "      <td>303</td>\n",
       "      <td>0</td>\n",
       "      <td>3</td>\n",
       "      <td>male</td>\n",
       "      <td>19.0</td>\n",
       "      <td>0.0</td>\n",
       "      <td>NaN</td>\n",
       "      <td>S</td>\n",
       "      <td>Johnson</td>\n",
       "      <td>Mr</td>\n",
       "      <td>0</td>\n",
       "      <td>LINE</td>\n",
       "      <td>None</td>\n",
       "    </tr>\n",
       "    <tr>\n",
       "      <th>597</th>\n",
       "      <td>598</td>\n",
       "      <td>0</td>\n",
       "      <td>3</td>\n",
       "      <td>male</td>\n",
       "      <td>49.0</td>\n",
       "      <td>0.0</td>\n",
       "      <td>NaN</td>\n",
       "      <td>S</td>\n",
       "      <td>Johnson</td>\n",
       "      <td>Mr</td>\n",
       "      <td>0</td>\n",
       "      <td>LINE</td>\n",
       "      <td>None</td>\n",
       "    </tr>\n",
       "  </tbody>\n",
       "</table>\n",
       "</div>"
      ],
      "text/plain": [
       "     PassengerId  Survived  Pclass   Sex   Age  Fare Cabin Embarked  \\\n",
       "179          180         0       3  male  36.0   0.0   NaN        S   \n",
       "271          272         1       3  male  25.0   0.0   NaN        S   \n",
       "302          303         0       3  male  19.0   0.0   NaN        S   \n",
       "597          598         0       3  male  49.0   0.0   NaN        S   \n",
       "\n",
       "     Last_name Name_prefix  Num_relatives Ticket_number Ticket_prefix  \n",
       "179    Leonard          Mr              0          LINE          None  \n",
       "271  Tornquist          Mr              0          LINE          None  \n",
       "302    Johnson          Mr              0          LINE          None  \n",
       "597    Johnson          Mr              0          LINE          None  "
      ]
     },
     "execution_count": 37,
     "metadata": {},
     "output_type": "execute_result"
    }
   ],
   "source": [
    "dt_train.loc[(dt_train.Ticket_number=='LINE')]"
   ]
  },
  {
   "cell_type": "markdown",
   "metadata": {},
   "source": [
    "We're just going to fudge these and assign a randomly chosen (by me) ticket number:"
   ]
  },
  {
   "cell_type": "code",
   "execution_count": 38,
   "metadata": {
    "collapsed": true
   },
   "outputs": [],
   "source": [
    "dt_train.set_value(179,'Ticket_number','3181');\n",
    "dt_train.set_value(271,'Ticket_number','17894');\n",
    "dt_train.set_value(302,'Ticket_number','2784');\n",
    "dt_train.set_value(597,'Ticket_number','330921');"
   ]
  },
  {
   "cell_type": "markdown",
   "metadata": {},
   "source": [
    "Now we'll convert the strings into integers:"
   ]
  },
  {
   "cell_type": "code",
   "execution_count": 39,
   "metadata": {
    "collapsed": true
   },
   "outputs": [],
   "source": [
    "dt_train.Ticket_number = dt_train.Ticket_number.apply(lambda x: int(x))\n",
    "dt_test.Ticket_number = dt_test.Ticket_number.apply(lambda x: int(x))"
   ]
  },
  {
   "cell_type": "markdown",
   "metadata": {},
   "source": [
    "## <a name=\"fare\">Fare</a>"
   ]
  },
  {
   "cell_type": "markdown",
   "metadata": {},
   "source": [
    "There is one NaN entry in 'Fare' in the test set. We'll simply fill it with the median fare in its Pclass."
   ]
  },
  {
   "cell_type": "code",
   "execution_count": 40,
   "metadata": {
    "collapsed": true
   },
   "outputs": [],
   "source": [
    "dt_test.Fare = dt_test.groupby(['Pclass']).Fare.apply(lambda x: x.fillna( x.median())  )"
   ]
  },
  {
   "cell_type": "code",
   "execution_count": 41,
   "metadata": {
    "collapsed": false
   },
   "outputs": [
    {
     "data": {
      "text/plain": [
       "0"
      ]
     },
     "execution_count": 41,
     "metadata": {},
     "output_type": "execute_result"
    }
   ],
   "source": [
    "sum(dt_test.Fare.isnull())"
   ]
  },
  {
   "cell_type": "markdown",
   "metadata": {},
   "source": [
    "## <a name=\"cabin\">Cabin</a>"
   ]
  },
  {
   "cell_type": "markdown",
   "metadata": {},
   "source": [
    "There are significant number of empty/NaN entries in the Cabin column. We'll fill them in with 'U' to denote Unknown."
   ]
  },
  {
   "cell_type": "code",
   "execution_count": 42,
   "metadata": {
    "collapsed": true
   },
   "outputs": [],
   "source": [
    "# Filling NaN values with 'U' \n",
    "dt_train.Cabin = dt_train.Cabin.fillna('U')\n",
    "dt_test.Cabin = dt_test.Cabin.fillna('U')"
   ]
  },
  {
   "cell_type": "markdown",
   "metadata": {},
   "source": [
    "Let's look at the unique cabin entries:"
   ]
  },
  {
   "cell_type": "code",
   "execution_count": 43,
   "metadata": {
    "collapsed": false
   },
   "outputs": [
    {
     "data": {
      "text/plain": [
       "array(['U', 'C85', 'C123', 'E46', 'G6', 'C103', 'D56', 'A6', 'C23 C25 C27',\n",
       "       'B78', 'D33', 'B30', 'C52', 'B28', 'C83', 'F33', 'F G73', 'E31',\n",
       "       'A5', 'D10 D12', 'D26', 'C110', 'B58 B60', 'E101', 'F E69', 'D47',\n",
       "       'B86', 'F2', 'C2', 'E33', 'B19', 'A7', 'C49', 'F4', 'A32', 'B4',\n",
       "       'B80', 'A31', 'D36', 'D15', 'C93', 'C78', 'D35', 'C87', 'B77',\n",
       "       'E67', 'B94', 'C125', 'C99', 'C118', 'D7', 'A19', 'B49', 'D',\n",
       "       'C22 C26', 'C106', 'C65', 'E36', 'C54', 'B57 B59 B63 B66', 'C7',\n",
       "       'E34', 'C32', 'B18', 'C124', 'C91', 'E40', 'T', 'C128', 'D37',\n",
       "       'B35', 'E50', 'C82', 'B96 B98', 'E10', 'E44', 'A34', 'C104', 'C111',\n",
       "       'C92', 'E38', 'D21', 'E12', 'E63', 'A14', 'B37', 'C30', 'D20',\n",
       "       'B79', 'E25', 'D46', 'B73', 'C95', 'B38', 'B39', 'B22', 'C86',\n",
       "       'C70', 'A16', 'C101', 'C68', 'A10', 'E68', 'B41', 'A20', 'D19',\n",
       "       'D50', 'D9', 'A23', 'B50', 'A26', 'D48', 'E58', 'C126', 'B71',\n",
       "       'B51 B53 B55', 'D49', 'B5', 'B20', 'F G63', 'C62 C64', 'E24', 'C90',\n",
       "       'C45', 'E8', 'B101', 'D45', 'C46', 'D30', 'E121', 'D11', 'E77',\n",
       "       'F38', 'B3', 'D6', 'B82 B84', 'D17', 'A36', 'B102', 'B69', 'E49',\n",
       "       'C47', 'D28', 'E17', 'A24', 'C50', 'B42', 'C148'], dtype=object)"
      ]
     },
     "execution_count": 43,
     "metadata": {},
     "output_type": "execute_result"
    }
   ],
   "source": [
    "# Looking at the different cabin entries\n",
    "dt_train.Cabin.unique()"
   ]
  },
  {
   "cell_type": "code",
   "execution_count": 44,
   "metadata": {
    "collapsed": false
   },
   "outputs": [
    {
     "data": {
      "text/plain": [
       "array(['U', 'B45', 'E31', 'B57 B59 B63 B66', 'B36', 'A21', 'C78', 'D34',\n",
       "       'D19', 'A9', 'D15', 'C31', 'C23 C25 C27', 'F G63', 'B61', 'C53',\n",
       "       'D43', 'C130', 'C132', 'C101', 'C55 C57', 'B71', 'C46', 'C116', 'F',\n",
       "       'A29', 'G6', 'C6', 'C28', 'C51', 'E46', 'C54', 'C97', 'D22', 'B10',\n",
       "       'F4', 'E45', 'E52', 'D30', 'B58 B60', 'E34', 'C62 C64', 'A11',\n",
       "       'B11', 'C80', 'F33', 'C85', 'D37', 'C86', 'D21', 'C89', 'F E46',\n",
       "       'A34', 'D', 'B26', 'C22 C26', 'B69', 'C32', 'B78', 'F E57', 'F2',\n",
       "       'A18', 'C106', 'B51 B53 B55', 'D10 D12', 'E60', 'E50', 'E39 E41',\n",
       "       'B52 B54 B56', 'C39', 'B24', 'D28', 'B41', 'C7', 'D40', 'D38',\n",
       "       'C105'], dtype=object)"
      ]
     },
     "execution_count": 44,
     "metadata": {},
     "output_type": "execute_result"
    }
   ],
   "source": [
    "dt_test.Cabin.unique()"
   ]
  },
  {
   "cell_type": "markdown",
   "metadata": {},
   "source": [
    "There are some odd entries here with multiple cabin inputs in a single entry, \n",
    "or what appear to be typos (i.e. 'F G63' instead of 'G63').\n",
    "Perhaps some passengers had multiple cabins booked in their name?\n",
    "\n",
    "In any case, we're going to clean this up and simply take the last-most cabin \n",
    "listed in each entry."
   ]
  },
  {
   "cell_type": "code",
   "execution_count": 45,
   "metadata": {
    "collapsed": true
   },
   "outputs": [],
   "source": [
    "# clean up cabin assignments\n",
    "dt_train.Cabin = dt_train.Cabin.apply(lambda x: x.split(' ')[-1])\n",
    "dt_test.Cabin = dt_test.Cabin.apply(lambda x: x.split(' ')[-1])"
   ]
  },
  {
   "cell_type": "markdown",
   "metadata": {},
   "source": [
    "\n",
    "Now, from having poked around the internet a bit, I've learned that \n",
    "\n",
    "1) The lifeboats on the Titanic were situated either towards the front or towards the back of the boat, with a gap in the middle (https://upload.wikimedia.org/wikipedia/commons/9/91/Titanic_Boat_Deck_plan_with_lifeboats.png).\n",
    "\n",
    "2) The cabin number is more or less ascending as one goes to the back of the boat (https://www.encyclopedia-titanica.org/titanic-deckplans/)\n",
    "\n",
    "One might suppose that front/back proximity to the lifeboats from each cabin might affect the survial outcome. However, due to the differences in deck layouts (i.e. decks A, B, C, etc), I can't really delinate this easily by cabin number.\n",
    "\n",
    "The simplest thing to do for now is to take only the passengers' deck levels into account. We can come back to the cabin numbers later if we want.\n"
   ]
  },
  {
   "cell_type": "code",
   "execution_count": 46,
   "metadata": {
    "collapsed": true
   },
   "outputs": [],
   "source": [
    "# Take only deck level into account from 'Cabin'\n",
    "# (i.e. the letter)\n",
    "\n",
    "dt_train.Cabin = dt_train.Cabin.apply(lambda x: x[0])\n",
    "dt_test.Cabin = dt_test.Cabin.apply(lambda x: x[0])"
   ]
  },
  {
   "cell_type": "code",
   "execution_count": 47,
   "metadata": {
    "collapsed": false
   },
   "outputs": [
    {
     "data": {
      "text/plain": [
       "U    687\n",
       "C     59\n",
       "B     47\n",
       "E     33\n",
       "D     33\n",
       "A     15\n",
       "F      9\n",
       "G      7\n",
       "T      1\n",
       "Name: Cabin, dtype: int64"
      ]
     },
     "execution_count": 47,
     "metadata": {},
     "output_type": "execute_result"
    }
   ],
   "source": [
    "dt_train.Cabin.value_counts()"
   ]
  },
  {
   "cell_type": "code",
   "execution_count": 48,
   "metadata": {
    "collapsed": false
   },
   "outputs": [
    {
     "data": {
      "text/plain": [
       "U    327\n",
       "C     35\n",
       "B     18\n",
       "D     13\n",
       "E     11\n",
       "A      7\n",
       "F      5\n",
       "G      2\n",
       "Name: Cabin, dtype: int64"
      ]
     },
     "execution_count": 48,
     "metadata": {},
     "output_type": "execute_result"
    }
   ],
   "source": [
    "dt_test.Cabin.value_counts()"
   ]
  },
  {
   "cell_type": "markdown",
   "metadata": {},
   "source": [
    "The significant number of U's is plain to see.\n",
    "\n",
    "Can we spot any immediate relationships between cabin deck level and survival rates?"
   ]
  },
  {
   "cell_type": "code",
   "execution_count": 49,
   "metadata": {
    "collapsed": false
   },
   "outputs": [
    {
     "data": {
      "text/plain": [
       "<matplotlib.axes._subplots.AxesSubplot at 0x11c890240>"
      ]
     },
     "execution_count": 49,
     "metadata": {},
     "output_type": "execute_result"
    },
    {
     "data": {
      "image/png": "[encoded data removed]",
      "text/plain": [
       "<matplotlib.figure.Figure at 0x11d6a7e80>"
      ]
     },
     "metadata": {},
     "output_type": "display_data"
    }
   ],
   "source": [
    "# Bar plots of survival by cabin and pclass\n",
    "\n",
    "plt.subplots(1,1,figsize=(20,6))\n",
    "sns.barplot(x='Cabin', y='Survived', hue='Pclass', data=dt_train)"
   ]
  },
  {
   "cell_type": "markdown",
   "metadata": {},
   "source": [
    "For 1st and 2nd class passengers, the Unknown cabin entries basically average out in survival rate."
   ]
  },
  {
   "cell_type": "code",
   "execution_count": 50,
   "metadata": {
    "collapsed": false
   },
   "outputs": [
    {
     "name": "stdout",
     "output_type": "stream",
     "text": [
      "Pclass  Cabin\n",
      "1       C         59\n",
      "        B         47\n",
      "        U         40\n",
      "        D         29\n",
      "        E         25\n",
      "        A         15\n",
      "        T          1\n",
      "2       U        168\n",
      "        F          8\n",
      "        D          4\n",
      "        E          4\n",
      "3       U        479\n",
      "        G          7\n",
      "        E          4\n",
      "        F          1\n",
      "Name: Cabin, dtype: int64\n"
     ]
    }
   ],
   "source": [
    "print(dt_train.groupby('Pclass').Cabin.value_counts())"
   ]
  },
  {
   "cell_type": "code",
   "execution_count": 51,
   "metadata": {
    "collapsed": false
   },
   "outputs": [
    {
     "name": "stdout",
     "output_type": "stream",
     "text": [
      "Pclass  Cabin\n",
      "1       C         35\n",
      "        U         27\n",
      "        B         18\n",
      "        D         11\n",
      "        E          9\n",
      "        A          7\n",
      "2       U         86\n",
      "        F          5\n",
      "        D          2\n",
      "3       U        214\n",
      "        E          2\n",
      "        G          2\n",
      "Name: Cabin, dtype: int64\n"
     ]
    }
   ],
   "source": [
    "print(dt_test.groupby('Pclass').Cabin.value_counts())"
   ]
  },
  {
   "cell_type": "markdown",
   "metadata": {},
   "source": [
    "A couple things:\n",
    "\n",
    "Decks A, B, and C are exclusively 1st class. Deck D is primarily 1st class with some 2nd class overlap. 2nd and 3rd class folks almost exclusively fall into the Unknown cabin category. This implies that there is a decent degree of ordinality to the deck assignments, and that we can more or less treat 'U' as an extra bottom deck (i.e. instead of A-G we have A-G,U).\n",
    "\n",
    "Note: There is a solitary 'T' cabin entry in the train set that needs to be dealt with ('T' was not a deck on the Titanic)"
   ]
  },
  {
   "cell_type": "code",
   "execution_count": 52,
   "metadata": {
    "collapsed": false
   },
   "outputs": [
    {
     "data": {
      "text/plain": [
       "339    1\n",
       "Name: Pclass, dtype: int64"
      ]
     },
     "execution_count": 52,
     "metadata": {},
     "output_type": "execute_result"
    }
   ],
   "source": [
    "dt_train.loc[(dt_train.Cabin=='T')].Pclass"
   ]
  },
  {
   "cell_type": "markdown",
   "metadata": {},
   "source": [
    "Since 'C' was the most popular cabin among 1st class folks, we'll use it to replace the 'T' entry:"
   ]
  },
  {
   "cell_type": "code",
   "execution_count": 53,
   "metadata": {
    "collapsed": true
   },
   "outputs": [],
   "source": [
    "ind = dt_train.loc[(dt_train.Cabin=='T')].index\n",
    "dt_train.set_value(ind,'Cabin','C');"
   ]
  },
  {
   "cell_type": "markdown",
   "metadata": {},
   "source": [
    "## <a name=\"embarked\">Embarked</a>"
   ]
  },
  {
   "cell_type": "markdown",
   "metadata": {},
   "source": [
    "We'll simply replace the 2 NaN's in dt_train.Embarked by whatever value is most common:"
   ]
  },
  {
   "cell_type": "code",
   "execution_count": 54,
   "metadata": {
    "collapsed": false
   },
   "outputs": [
    {
     "data": {
      "text/plain": [
       "S    644\n",
       "C    168\n",
       "Q     77\n",
       "Name: Embarked, dtype: int64"
      ]
     },
     "execution_count": 54,
     "metadata": {},
     "output_type": "execute_result"
    }
   ],
   "source": [
    "dt_train.Embarked.value_counts()"
   ]
  },
  {
   "cell_type": "code",
   "execution_count": 55,
   "metadata": {
    "collapsed": true
   },
   "outputs": [],
   "source": [
    "# Replacing NaN's with 'S'\n",
    "inds = dt_train.Embarked.loc[ (dt_train.Embarked.isnull() )].index\n",
    "dt_train.set_value(inds, 'Embarked', 'S');"
   ]
  },
  {
   "cell_type": "markdown",
   "metadata": {
    "collapsed": true
   },
   "source": [
    "## <a name=\"encoding\">Data encoding</a>"
   ]
  },
  {
   "cell_type": "markdown",
   "metadata": {},
   "source": [
    "Now we need to encode our categorial string variables into integers, so that they can be run through classifier algorhithms. The columns in question are Sex, Cabin, Embarked, Last_name, Name_prefix, and Ticket_prefix:"
   ]
  },
  {
   "cell_type": "code",
   "execution_count": 56,
   "metadata": {
    "collapsed": false
   },
   "outputs": [
    {
     "data": {
      "text/html": [
       "<div>\n",
       "<table border=\"1\" class=\"dataframe\">\n",
       "  <thead>\n",
       "    <tr style=\"text-align: right;\">\n",
       "      <th></th>\n",
       "      <th>PassengerId</th>\n",
       "      <th>Survived</th>\n",
       "      <th>Pclass</th>\n",
       "      <th>Sex</th>\n",
       "      <th>Age</th>\n",
       "      <th>Fare</th>\n",
       "      <th>Cabin</th>\n",
       "      <th>Embarked</th>\n",
       "      <th>Last_name</th>\n",
       "      <th>Name_prefix</th>\n",
       "      <th>Num_relatives</th>\n",
       "      <th>Ticket_number</th>\n",
       "      <th>Ticket_prefix</th>\n",
       "    </tr>\n",
       "  </thead>\n",
       "  <tbody>\n",
       "    <tr>\n",
       "      <th>0</th>\n",
       "      <td>1</td>\n",
       "      <td>0</td>\n",
       "      <td>3</td>\n",
       "      <td>male</td>\n",
       "      <td>22.0</td>\n",
       "      <td>7.2500</td>\n",
       "      <td>U</td>\n",
       "      <td>S</td>\n",
       "      <td>Braund</td>\n",
       "      <td>Mr</td>\n",
       "      <td>1</td>\n",
       "      <td>21171</td>\n",
       "      <td>A/5</td>\n",
       "    </tr>\n",
       "    <tr>\n",
       "      <th>1</th>\n",
       "      <td>2</td>\n",
       "      <td>1</td>\n",
       "      <td>1</td>\n",
       "      <td>female</td>\n",
       "      <td>38.0</td>\n",
       "      <td>71.2833</td>\n",
       "      <td>C</td>\n",
       "      <td>C</td>\n",
       "      <td>Cumings</td>\n",
       "      <td>Mrs</td>\n",
       "      <td>1</td>\n",
       "      <td>17599</td>\n",
       "      <td>PC</td>\n",
       "    </tr>\n",
       "    <tr>\n",
       "      <th>2</th>\n",
       "      <td>3</td>\n",
       "      <td>1</td>\n",
       "      <td>3</td>\n",
       "      <td>female</td>\n",
       "      <td>26.0</td>\n",
       "      <td>7.9250</td>\n",
       "      <td>U</td>\n",
       "      <td>S</td>\n",
       "      <td>Heikkinen</td>\n",
       "      <td>Miss</td>\n",
       "      <td>0</td>\n",
       "      <td>3101282</td>\n",
       "      <td>STON/O2.</td>\n",
       "    </tr>\n",
       "    <tr>\n",
       "      <th>3</th>\n",
       "      <td>4</td>\n",
       "      <td>1</td>\n",
       "      <td>1</td>\n",
       "      <td>female</td>\n",
       "      <td>35.0</td>\n",
       "      <td>53.1000</td>\n",
       "      <td>C</td>\n",
       "      <td>S</td>\n",
       "      <td>Futrelle</td>\n",
       "      <td>Mrs</td>\n",
       "      <td>1</td>\n",
       "      <td>113803</td>\n",
       "      <td>None</td>\n",
       "    </tr>\n",
       "    <tr>\n",
       "      <th>4</th>\n",
       "      <td>5</td>\n",
       "      <td>0</td>\n",
       "      <td>3</td>\n",
       "      <td>male</td>\n",
       "      <td>35.0</td>\n",
       "      <td>8.0500</td>\n",
       "      <td>U</td>\n",
       "      <td>S</td>\n",
       "      <td>Allen</td>\n",
       "      <td>Mr</td>\n",
       "      <td>0</td>\n",
       "      <td>373450</td>\n",
       "      <td>None</td>\n",
       "    </tr>\n",
       "  </tbody>\n",
       "</table>\n",
       "</div>"
      ],
      "text/plain": [
       "   PassengerId  Survived  Pclass     Sex   Age     Fare Cabin Embarked  \\\n",
       "0            1         0       3    male  22.0   7.2500     U        S   \n",
       "1            2         1       1  female  38.0  71.2833     C        C   \n",
       "2            3         1       3  female  26.0   7.9250     U        S   \n",
       "3            4         1       1  female  35.0  53.1000     C        S   \n",
       "4            5         0       3    male  35.0   8.0500     U        S   \n",
       "\n",
       "   Last_name Name_prefix  Num_relatives  Ticket_number Ticket_prefix  \n",
       "0     Braund          Mr              1          21171           A/5  \n",
       "1    Cumings         Mrs              1          17599            PC  \n",
       "2  Heikkinen        Miss              0        3101282      STON/O2.  \n",
       "3   Futrelle         Mrs              1         113803          None  \n",
       "4      Allen          Mr              0         373450          None  "
      ]
     },
     "execution_count": 56,
     "metadata": {},
     "output_type": "execute_result"
    }
   ],
   "source": [
    "dt_train.head()"
   ]
  },
  {
   "cell_type": "markdown",
   "metadata": {},
   "source": [
    "As mentioned above, the Cabin variable has a degree of ordinality to it, so it will suffice to map the cabins A-G,U directly to integers (i.e. 1-8).\n",
    "\n",
    "The remaining categorial variables are not ordinal (although Sex is binary, so it will suffice to let it be), so we'll do a one-hot encoding using pd.get_dummies . If this doesn't give us good results, we can consider more sophisticated encoding options (such as reducing dimensionality). To begin with, I'm going to leave out Last_name since this one column will obviously add the most dimensionality (and, I'm guessing, is of relatively lesser importance).\n",
    "\n",
    "First we'll do the Cabin entries as mentioned:"
   ]
  },
  {
   "cell_type": "code",
   "execution_count": 57,
   "metadata": {
    "collapsed": true
   },
   "outputs": [],
   "source": [
    "cabinmap = {'A': 1, 'B':2, 'C': 3, 'D': 4, 'E': 5, 'F': 6, 'G': 7, 'U': 8}\n",
    "\n",
    "dt_train.Cabin = dt_train.Cabin.apply(lambda x: cabinmap[x])\n",
    "dt_test.Cabin = dt_test.Cabin.apply(lambda x: cabinmap[x])"
   ]
  },
  {
   "cell_type": "code",
   "execution_count": 58,
   "metadata": {
    "collapsed": false
   },
   "outputs": [
    {
     "data": {
      "text/plain": [
       "0    8\n",
       "1    3\n",
       "2    8\n",
       "3    3\n",
       "4    8\n",
       "Name: Cabin, dtype: int64"
      ]
     },
     "execution_count": 58,
     "metadata": {},
     "output_type": "execute_result"
    }
   ],
   "source": [
    "dt_train.Cabin.head()"
   ]
  },
  {
   "cell_type": "markdown",
   "metadata": {},
   "source": [
    "Now let's go ahead and one-hot the data:"
   ]
  },
  {
   "cell_type": "code",
   "execution_count": 149,
   "metadata": {
    "collapsed": false
   },
   "outputs": [
    {
     "name": "stderr",
     "output_type": "stream",
     "text": [
      "/Users/hayabusa/anaconda/lib/python3.6/site-packages/ipykernel/__main__.py:7: SettingWithCopyWarning: \n",
      "A value is trying to be set on a copy of a slice from a DataFrame.\n",
      "Try using .loc[row_indexer,col_indexer] = value instead\n",
      "\n",
      "See the caveats in the documentation: http://pandas.pydata.org/pandas-docs/stable/indexing.html#indexing-view-versus-copy\n"
     ]
    }
   ],
   "source": [
    "data = pd.concat([dt_train.drop(['Survived'], axis=1), dt_test])\n",
    "features = ['Sex', 'Embarked', 'Name_prefix', 'Ticket_prefix']\n",
    "\n",
    "oh = pd.get_dummies(data, columns=features)\n",
    "\n",
    "oh_train = oh[0:890]\n",
    "oh_train['Survived'] = dt_train.Survived\n",
    "oh_test = oh[891:]\n",
    "\n",
    "oh_train = oh_train.drop(['Last_name'], axis=1)\n",
    "oh_test = oh_test.drop(['Last_name'], axis=1)"
   ]
  },
  {
   "cell_type": "code",
   "execution_count": 150,
   "metadata": {
    "collapsed": false
   },
   "outputs": [
    {
     "data": {
      "text/html": [
       "<div>\n",
       "<table border=\"1\" class=\"dataframe\">\n",
       "  <thead>\n",
       "    <tr style=\"text-align: right;\">\n",
       "      <th></th>\n",
       "      <th>PassengerId</th>\n",
       "      <th>Pclass</th>\n",
       "      <th>Age</th>\n",
       "      <th>Fare</th>\n",
       "      <th>Cabin</th>\n",
       "      <th>Num_relatives</th>\n",
       "      <th>Ticket_number</th>\n",
       "      <th>Sex_female</th>\n",
       "      <th>Sex_male</th>\n",
       "      <th>Embarked_C</th>\n",
       "      <th>...</th>\n",
       "      <th>Ticket_prefix_SOTON/OQ</th>\n",
       "      <th>Ticket_prefix_STON/O</th>\n",
       "      <th>Ticket_prefix_STON/O2.</th>\n",
       "      <th>Ticket_prefix_STON/OQ.</th>\n",
       "      <th>Ticket_prefix_SW/PP</th>\n",
       "      <th>Ticket_prefix_W./C.</th>\n",
       "      <th>Ticket_prefix_W.E.P.</th>\n",
       "      <th>Ticket_prefix_W/C</th>\n",
       "      <th>Ticket_prefix_WE/P</th>\n",
       "      <th>Survived</th>\n",
       "    </tr>\n",
       "  </thead>\n",
       "  <tbody>\n",
       "    <tr>\n",
       "      <th>0</th>\n",
       "      <td>1</td>\n",
       "      <td>3</td>\n",
       "      <td>22.0</td>\n",
       "      <td>7.2500</td>\n",
       "      <td>8</td>\n",
       "      <td>1</td>\n",
       "      <td>21171</td>\n",
       "      <td>0</td>\n",
       "      <td>1</td>\n",
       "      <td>0</td>\n",
       "      <td>...</td>\n",
       "      <td>0</td>\n",
       "      <td>0</td>\n",
       "      <td>0</td>\n",
       "      <td>0</td>\n",
       "      <td>0</td>\n",
       "      <td>0</td>\n",
       "      <td>0</td>\n",
       "      <td>0</td>\n",
       "      <td>0</td>\n",
       "      <td>0</td>\n",
       "    </tr>\n",
       "    <tr>\n",
       "      <th>1</th>\n",
       "      <td>2</td>\n",
       "      <td>1</td>\n",
       "      <td>38.0</td>\n",
       "      <td>71.2833</td>\n",
       "      <td>3</td>\n",
       "      <td>1</td>\n",
       "      <td>17599</td>\n",
       "      <td>1</td>\n",
       "      <td>0</td>\n",
       "      <td>1</td>\n",
       "      <td>...</td>\n",
       "      <td>0</td>\n",
       "      <td>0</td>\n",
       "      <td>0</td>\n",
       "      <td>0</td>\n",
       "      <td>0</td>\n",
       "      <td>0</td>\n",
       "      <td>0</td>\n",
       "      <td>0</td>\n",
       "      <td>0</td>\n",
       "      <td>1</td>\n",
       "    </tr>\n",
       "    <tr>\n",
       "      <th>2</th>\n",
       "      <td>3</td>\n",
       "      <td>3</td>\n",
       "      <td>26.0</td>\n",
       "      <td>7.9250</td>\n",
       "      <td>8</td>\n",
       "      <td>0</td>\n",
       "      <td>3101282</td>\n",
       "      <td>1</td>\n",
       "      <td>0</td>\n",
       "      <td>0</td>\n",
       "      <td>...</td>\n",
       "      <td>0</td>\n",
       "      <td>0</td>\n",
       "      <td>1</td>\n",
       "      <td>0</td>\n",
       "      <td>0</td>\n",
       "      <td>0</td>\n",
       "      <td>0</td>\n",
       "      <td>0</td>\n",
       "      <td>0</td>\n",
       "      <td>1</td>\n",
       "    </tr>\n",
       "    <tr>\n",
       "      <th>3</th>\n",
       "      <td>4</td>\n",
       "      <td>1</td>\n",
       "      <td>35.0</td>\n",
       "      <td>53.1000</td>\n",
       "      <td>3</td>\n",
       "      <td>1</td>\n",
       "      <td>113803</td>\n",
       "      <td>1</td>\n",
       "      <td>0</td>\n",
       "      <td>0</td>\n",
       "      <td>...</td>\n",
       "      <td>0</td>\n",
       "      <td>0</td>\n",
       "      <td>0</td>\n",
       "      <td>0</td>\n",
       "      <td>0</td>\n",
       "      <td>0</td>\n",
       "      <td>0</td>\n",
       "      <td>0</td>\n",
       "      <td>0</td>\n",
       "      <td>1</td>\n",
       "    </tr>\n",
       "    <tr>\n",
       "      <th>4</th>\n",
       "      <td>5</td>\n",
       "      <td>3</td>\n",
       "      <td>35.0</td>\n",
       "      <td>8.0500</td>\n",
       "      <td>8</td>\n",
       "      <td>0</td>\n",
       "      <td>373450</td>\n",
       "      <td>0</td>\n",
       "      <td>1</td>\n",
       "      <td>0</td>\n",
       "      <td>...</td>\n",
       "      <td>0</td>\n",
       "      <td>0</td>\n",
       "      <td>0</td>\n",
       "      <td>0</td>\n",
       "      <td>0</td>\n",
       "      <td>0</td>\n",
       "      <td>0</td>\n",
       "      <td>0</td>\n",
       "      <td>0</td>\n",
       "      <td>0</td>\n",
       "    </tr>\n",
       "  </tbody>\n",
       "</table>\n",
       "<p>5 rows × 71 columns</p>\n",
       "</div>"
      ],
      "text/plain": [
       "   PassengerId  Pclass   Age     Fare  Cabin  Num_relatives  Ticket_number  \\\n",
       "0            1       3  22.0   7.2500      8              1          21171   \n",
       "1            2       1  38.0  71.2833      3              1          17599   \n",
       "2            3       3  26.0   7.9250      8              0        3101282   \n",
       "3            4       1  35.0  53.1000      3              1         113803   \n",
       "4            5       3  35.0   8.0500      8              0         373450   \n",
       "\n",
       "   Sex_female  Sex_male  Embarked_C    ...     Ticket_prefix_SOTON/OQ  \\\n",
       "0           0         1           0    ...                          0   \n",
       "1           1         0           1    ...                          0   \n",
       "2           1         0           0    ...                          0   \n",
       "3           1         0           0    ...                          0   \n",
       "4           0         1           0    ...                          0   \n",
       "\n",
       "   Ticket_prefix_STON/O  Ticket_prefix_STON/O2.  Ticket_prefix_STON/OQ.  \\\n",
       "0                     0                       0                       0   \n",
       "1                     0                       0                       0   \n",
       "2                     0                       1                       0   \n",
       "3                     0                       0                       0   \n",
       "4                     0                       0                       0   \n",
       "\n",
       "   Ticket_prefix_SW/PP  Ticket_prefix_W./C.  Ticket_prefix_W.E.P.  \\\n",
       "0                    0                    0                     0   \n",
       "1                    0                    0                     0   \n",
       "2                    0                    0                     0   \n",
       "3                    0                    0                     0   \n",
       "4                    0                    0                     0   \n",
       "\n",
       "   Ticket_prefix_W/C  Ticket_prefix_WE/P  Survived  \n",
       "0                  0                   0         0  \n",
       "1                  0                   0         1  \n",
       "2                  0                   0         1  \n",
       "3                  0                   0         1  \n",
       "4                  0                   0         0  \n",
       "\n",
       "[5 rows x 71 columns]"
      ]
     },
     "execution_count": 150,
     "metadata": {},
     "output_type": "execute_result"
    }
   ],
   "source": [
    "oh_train.head()"
   ]
  },
  {
   "cell_type": "code",
   "execution_count": 151,
   "metadata": {
    "collapsed": false
   },
   "outputs": [
    {
     "data": {
      "text/html": [
       "<div>\n",
       "<table border=\"1\" class=\"dataframe\">\n",
       "  <thead>\n",
       "    <tr style=\"text-align: right;\">\n",
       "      <th></th>\n",
       "      <th>PassengerId</th>\n",
       "      <th>Pclass</th>\n",
       "      <th>Age</th>\n",
       "      <th>Fare</th>\n",
       "      <th>Cabin</th>\n",
       "      <th>Num_relatives</th>\n",
       "      <th>Ticket_number</th>\n",
       "      <th>Sex_female</th>\n",
       "      <th>Sex_male</th>\n",
       "      <th>Embarked_C</th>\n",
       "      <th>...</th>\n",
       "      <th>Ticket_prefix_SOTON/O2</th>\n",
       "      <th>Ticket_prefix_SOTON/OQ</th>\n",
       "      <th>Ticket_prefix_STON/O</th>\n",
       "      <th>Ticket_prefix_STON/O2.</th>\n",
       "      <th>Ticket_prefix_STON/OQ.</th>\n",
       "      <th>Ticket_prefix_SW/PP</th>\n",
       "      <th>Ticket_prefix_W./C.</th>\n",
       "      <th>Ticket_prefix_W.E.P.</th>\n",
       "      <th>Ticket_prefix_W/C</th>\n",
       "      <th>Ticket_prefix_WE/P</th>\n",
       "    </tr>\n",
       "  </thead>\n",
       "  <tbody>\n",
       "    <tr>\n",
       "      <th>0</th>\n",
       "      <td>892</td>\n",
       "      <td>3</td>\n",
       "      <td>34.5</td>\n",
       "      <td>7.8292</td>\n",
       "      <td>8</td>\n",
       "      <td>0</td>\n",
       "      <td>330911</td>\n",
       "      <td>0</td>\n",
       "      <td>1</td>\n",
       "      <td>0</td>\n",
       "      <td>...</td>\n",
       "      <td>0</td>\n",
       "      <td>0</td>\n",
       "      <td>0</td>\n",
       "      <td>0</td>\n",
       "      <td>0</td>\n",
       "      <td>0</td>\n",
       "      <td>0</td>\n",
       "      <td>0</td>\n",
       "      <td>0</td>\n",
       "      <td>0</td>\n",
       "    </tr>\n",
       "    <tr>\n",
       "      <th>1</th>\n",
       "      <td>893</td>\n",
       "      <td>3</td>\n",
       "      <td>47.0</td>\n",
       "      <td>7.0000</td>\n",
       "      <td>8</td>\n",
       "      <td>1</td>\n",
       "      <td>363272</td>\n",
       "      <td>1</td>\n",
       "      <td>0</td>\n",
       "      <td>0</td>\n",
       "      <td>...</td>\n",
       "      <td>0</td>\n",
       "      <td>0</td>\n",
       "      <td>0</td>\n",
       "      <td>0</td>\n",
       "      <td>0</td>\n",
       "      <td>0</td>\n",
       "      <td>0</td>\n",
       "      <td>0</td>\n",
       "      <td>0</td>\n",
       "      <td>0</td>\n",
       "    </tr>\n",
       "    <tr>\n",
       "      <th>2</th>\n",
       "      <td>894</td>\n",
       "      <td>2</td>\n",
       "      <td>62.0</td>\n",
       "      <td>9.6875</td>\n",
       "      <td>8</td>\n",
       "      <td>0</td>\n",
       "      <td>240276</td>\n",
       "      <td>0</td>\n",
       "      <td>1</td>\n",
       "      <td>0</td>\n",
       "      <td>...</td>\n",
       "      <td>0</td>\n",
       "      <td>0</td>\n",
       "      <td>0</td>\n",
       "      <td>0</td>\n",
       "      <td>0</td>\n",
       "      <td>0</td>\n",
       "      <td>0</td>\n",
       "      <td>0</td>\n",
       "      <td>0</td>\n",
       "      <td>0</td>\n",
       "    </tr>\n",
       "    <tr>\n",
       "      <th>3</th>\n",
       "      <td>895</td>\n",
       "      <td>3</td>\n",
       "      <td>27.0</td>\n",
       "      <td>8.6625</td>\n",
       "      <td>8</td>\n",
       "      <td>0</td>\n",
       "      <td>315154</td>\n",
       "      <td>0</td>\n",
       "      <td>1</td>\n",
       "      <td>0</td>\n",
       "      <td>...</td>\n",
       "      <td>0</td>\n",
       "      <td>0</td>\n",
       "      <td>0</td>\n",
       "      <td>0</td>\n",
       "      <td>0</td>\n",
       "      <td>0</td>\n",
       "      <td>0</td>\n",
       "      <td>0</td>\n",
       "      <td>0</td>\n",
       "      <td>0</td>\n",
       "    </tr>\n",
       "    <tr>\n",
       "      <th>4</th>\n",
       "      <td>896</td>\n",
       "      <td>3</td>\n",
       "      <td>22.0</td>\n",
       "      <td>12.2875</td>\n",
       "      <td>8</td>\n",
       "      <td>2</td>\n",
       "      <td>3101298</td>\n",
       "      <td>1</td>\n",
       "      <td>0</td>\n",
       "      <td>0</td>\n",
       "      <td>...</td>\n",
       "      <td>0</td>\n",
       "      <td>0</td>\n",
       "      <td>0</td>\n",
       "      <td>0</td>\n",
       "      <td>0</td>\n",
       "      <td>0</td>\n",
       "      <td>0</td>\n",
       "      <td>0</td>\n",
       "      <td>0</td>\n",
       "      <td>0</td>\n",
       "    </tr>\n",
       "  </tbody>\n",
       "</table>\n",
       "<p>5 rows × 70 columns</p>\n",
       "</div>"
      ],
      "text/plain": [
       "   PassengerId  Pclass   Age     Fare  Cabin  Num_relatives  Ticket_number  \\\n",
       "0          892       3  34.5   7.8292      8              0         330911   \n",
       "1          893       3  47.0   7.0000      8              1         363272   \n",
       "2          894       2  62.0   9.6875      8              0         240276   \n",
       "3          895       3  27.0   8.6625      8              0         315154   \n",
       "4          896       3  22.0  12.2875      8              2        3101298   \n",
       "\n",
       "   Sex_female  Sex_male  Embarked_C         ...          \\\n",
       "0           0         1           0         ...           \n",
       "1           1         0           0         ...           \n",
       "2           0         1           0         ...           \n",
       "3           0         1           0         ...           \n",
       "4           1         0           0         ...           \n",
       "\n",
       "   Ticket_prefix_SOTON/O2  Ticket_prefix_SOTON/OQ  Ticket_prefix_STON/O  \\\n",
       "0                       0                       0                     0   \n",
       "1                       0                       0                     0   \n",
       "2                       0                       0                     0   \n",
       "3                       0                       0                     0   \n",
       "4                       0                       0                     0   \n",
       "\n",
       "   Ticket_prefix_STON/O2.  Ticket_prefix_STON/OQ.  Ticket_prefix_SW/PP  \\\n",
       "0                       0                       0                    0   \n",
       "1                       0                       0                    0   \n",
       "2                       0                       0                    0   \n",
       "3                       0                       0                    0   \n",
       "4                       0                       0                    0   \n",
       "\n",
       "   Ticket_prefix_W./C.  Ticket_prefix_W.E.P.  Ticket_prefix_W/C  \\\n",
       "0                    0                     0                  0   \n",
       "1                    0                     0                  0   \n",
       "2                    0                     0                  0   \n",
       "3                    0                     0                  0   \n",
       "4                    0                     0                  0   \n",
       "\n",
       "   Ticket_prefix_WE/P  \n",
       "0                   0  \n",
       "1                   0  \n",
       "2                   0  \n",
       "3                   0  \n",
       "4                   0  \n",
       "\n",
       "[5 rows x 70 columns]"
      ]
     },
     "execution_count": 151,
     "metadata": {},
     "output_type": "execute_result"
    }
   ],
   "source": [
    "oh_test.head()"
   ]
  },
  {
   "cell_type": "markdown",
   "metadata": {},
   "source": [
    "## <a name=\"modeling\">Model training</a>"
   ]
  },
  {
   "cell_type": "markdown",
   "metadata": {},
   "source": [
    "Let's import a Random Forest classifier and some metrics:"
   ]
  },
  {
   "cell_type": "code",
   "execution_count": 152,
   "metadata": {
    "collapsed": true
   },
   "outputs": [],
   "source": [
    "from sklearn.ensemble import RandomForestClassifier\n",
    "from sklearn.model_selection import GridSearchCV\n",
    "from sklearn.metrics import make_scorer, accuracy_score"
   ]
  },
  {
   "cell_type": "markdown",
   "metadata": {},
   "source": [
    "We'll do Grid Search CV to try a range of parameters for the classifier in order to find the best ones. For now, I'll use a wide range of parameters which will take my computer an hour or two to work through:"
   ]
  },
  {
   "cell_type": "markdown",
   "metadata": {},
   "source": [
    "Now define an 80/20 train/test split on our training data:"
   ]
  },
  {
   "cell_type": "code",
   "execution_count": 153,
   "metadata": {
    "collapsed": true
   },
   "outputs": [],
   "source": [
    "from sklearn.model_selection import train_test_split\n",
    "\n",
    "X = oh_train.drop(['PassengerId', 'Survived'], axis=1)\n",
    "Y = oh_train.Survived\n",
    "\n",
    "x_train, x_test, y_train, y_test = train_test_split(X, Y, test_size=0.2, random_state=42)"
   ]
  },
  {
   "cell_type": "markdown",
   "metadata": {},
   "source": [
    "Now we'll set up K-Fold cross-validation with 10 folds:"
   ]
  },
  {
   "cell_type": "code",
   "execution_count": 154,
   "metadata": {
    "collapsed": false
   },
   "outputs": [],
   "source": [
    "from sklearn.cross_validation import KFold\n",
    "\n",
    "def run_kfold(clf):\n",
    "    \n",
    "    kf = KFold(len(X), n_folds=10)\n",
    "    outcomes = []\n",
    "    fold = 1\n",
    "    \n",
    "    for train_index, test_index in kf:\n",
    "        x_train_kf, x_test_kf = X.values[train_index], X.values[test_index]\n",
    "        y_train_kf, y_test_kf = Y.values[train_index], Y.values[test_index]\n",
    "        \n",
    "        clf.fit(x_train_kf, y_train_kf)\n",
    "        predictions = clf.predict(x_test_kf)\n",
    "        acc = accuracy_score(y_test_kf, predictions)\n",
    "        \n",
    "        outcomes.append(acc)\n",
    "        print(\"Fold %s, Accuracy = %s\" % (fold, acc))\n",
    "        fold += 1\n",
    "        \n",
    "    mean_accuracy = np.mean(outcomes)\n",
    "    std_dev = np.std(outcomes)\n",
    "    print(\"*** Mean Accuracy = %s\" % mean_accuracy)\n",
    "    print(\"*** Std Dev = %s\" % std_dev)    "
   ]
  },
  {
   "cell_type": "markdown",
   "metadata": {},
   "source": [
    "And now the (initial) moment of truth: we'll tune the classifier with GridSearchCV, fit it to our 80% training data, and test it on our 20% withheld training data. "
   ]
  },
  {
   "cell_type": "code",
   "execution_count": 155,
   "metadata": {
    "collapsed": false
   },
   "outputs": [
    {
     "name": "stdout",
     "output_type": "stream",
     "text": [
      "Fold 1, Accuracy = 0.808988764045\n",
      "Fold 2, Accuracy = 0.842696629213\n",
      "Fold 3, Accuracy = 0.797752808989\n",
      "Fold 4, Accuracy = 0.842696629213\n",
      "Fold 5, Accuracy = 0.887640449438\n",
      "Fold 6, Accuracy = 0.85393258427\n",
      "Fold 7, Accuracy = 0.797752808989\n",
      "Fold 8, Accuracy = 0.831460674157\n",
      "Fold 9, Accuracy = 0.865168539326\n",
      "Fold 10, Accuracy = 0.876404494382\n",
      "*** Mean Accuracy = 0.840449438202\n",
      "*** Std Dev = 0.0300653666523\n"
     ]
    }
   ],
   "source": [
    "clf = RandomForestClassifier()\n",
    "\n",
    "# some params to try:\n",
    "parameters = {'n_estimators': [10, 50, 100, 200, 250], \n",
    "                  'max_features': [None, 'log2', 'sqrt','auto'], \n",
    "                  'criterion': ['entropy', 'gini'],\n",
    "                  'max_depth': [2, 4, 7, 18, 23, 30], \n",
    "                  'min_samples_split': [2, 3, 5, 7, 12, 50],\n",
    "                  'min_samples_leaf': [1,3,5,8,13],\n",
    "                  'min_weight_fraction_leaf' : [0.0, 0.2],\n",
    "                  'max_leaf_nodes' : [None, 5,12,18,24],              \n",
    "                 }\n",
    "\n",
    "\n",
    "# Run GridSearchCV on the classifier\n",
    "accuracy = make_scorer(accuracy_score)\n",
    "    \n",
    "grid = GridSearchCV(clf, parameters, scoring=accuracy)\n",
    "grid = grid.fit(x_train, y_train)\n",
    "\n",
    "clf = grid.best_estimator_\n",
    "clf.fit(x_train, y_train)\n",
    "\n",
    "run_kfold(clf)"
   ]
  },
  {
   "cell_type": "code",
   "execution_count": 196,
   "metadata": {
    "collapsed": false,
    "scrolled": false
   },
   "outputs": [
    {
     "data": {
      "text/plain": [
       "RandomForestClassifier(bootstrap=True, class_weight=None, criterion='entropy',\n",
       "            max_depth=7, max_features=None, max_leaf_nodes=24,\n",
       "            min_impurity_split=1e-07, min_samples_leaf=5,\n",
       "            min_samples_split=2, min_weight_fraction_leaf=0.0,\n",
       "            n_estimators=200, n_jobs=1, oob_score=False, random_state=None,\n",
       "            verbose=0, warm_start=False)"
      ]
     },
     "execution_count": 196,
     "metadata": {},
     "output_type": "execute_result"
    }
   ],
   "source": [
    "clf "
   ]
  },
  {
   "cell_type": "markdown",
   "metadata": {},
   "source": [
    "Our trained classifier (For future reference, so we don't have to re-fit again later) came out to be:\n",
    "\n",
    "This gave us a mean accuracy of 0.84 on k-fold."
   ]
  },
  {
   "cell_type": "markdown",
   "metadata": {},
   "source": [
    "What were the relative weights of all the data features in the trained classifier?"
   ]
  },
  {
   "cell_type": "code",
   "execution_count": 201,
   "metadata": {
    "collapsed": false
   },
   "outputs": [
    {
     "name": "stdout",
     "output_type": "stream",
     "text": [
      "1. Ticket_number (0.140333)\n",
      "2. Fare (0.101430)\n",
      "3. Age (0.090610)\n",
      "4. Sex_female (0.093018)\n",
      "5. Name_prefix_Mr (0.182825)\n",
      "6. Sex_male (0.093187)\n",
      "7. Num_relatives (0.052592)\n",
      "8. Pclass (0.113698)\n",
      "9. Cabin (0.077130)\n",
      "10. Name_prefix_Miss (0.002567)\n",
      "11. Name_prefix_Mrs (0.002526)\n",
      "12. Ticket_prefix_None (0.007015)\n",
      "13. Embarked_S (0.008422)\n",
      "14. Embarked_C (0.002020)\n",
      "15. Name_prefix_Master (0.001724)\n",
      "16. Embarked_Q (0.003045)\n",
      "17. Ticket_prefix_PC (0.001089)\n",
      "18. Ticket_prefix_STON/O (0.011540)\n",
      "19. Ticket_prefix_C.A. (0.000000)\n",
      "20. Ticket_prefix_A/5. (0.000051)\n",
      "21. Name_prefix_RevDr (0.015026)\n",
      "22. Ticket_prefix_W./C. (0.000000)\n",
      "23. Ticket_prefix_CA. (0.000000)\n",
      "24. Ticket_prefix_S.W./PP (0.000000)\n",
      "25. Ticket_prefix_CA (0.000000)\n",
      "26. Ticket_prefix_SOTON/O.Q. (0.000000)\n",
      "27. Ticket_prefix_C (0.000000)\n",
      "28. Ticket_prefix_SW/PP (0.000000)\n",
      "29. Ticket_prefix_S.O./P.P. (0.000000)\n",
      "30. Name_prefix_Officer (0.000000)\n",
      "31. Ticket_prefix_STON/O2. (0.000000)\n",
      "32. Ticket_prefix_S.O.C. (0.000000)\n",
      "33. Ticket_prefix_A/5 (0.000000)\n",
      "34. Ticket_prefix_SOTON/OQ (0.000152)\n",
      "35. Ticket_prefix_F.C.C. (0.000000)\n",
      "36. Ticket_prefix_SC/PARIS (0.000000)\n",
      "37. Ticket_prefix_SC/Paris (0.000000)\n",
      "38. Ticket_prefix_PP (0.000000)\n",
      "39. Name_prefix_NobleM (0.000000)\n",
      "40. Ticket_prefix_F.C. (0.000000)\n",
      "41. Ticket_prefix_W.E.P. (0.000000)\n",
      "42. Ticket_prefix_SC/AH (0.000000)\n",
      "43. Ticket_prefix_A/4. (0.000000)\n",
      "44. Ticket_prefix_WE/P (0.000000)\n",
      "45. Ticket_prefix_SC (0.000000)\n",
      "46. Ticket_prefix_SCO/W (0.000000)\n",
      "47. Ticket_prefix_A./5. (0.000000)\n",
      "48. Name_prefix_NobleF (0.000000)\n",
      "49. Ticket_prefix_SO/C (0.000000)\n",
      "50. Ticket_prefix_S.O.P. (0.000000)\n",
      "51. Ticket_prefix_A.5. (0.000000)\n",
      "52. Ticket_prefix_A/S (0.000000)\n",
      "53. Ticket_prefix_A/4 (0.000000)\n",
      "54. Ticket_prefix_P/PP (0.000000)\n",
      "55. Ticket_prefix_A4. (0.000000)\n",
      "56. Ticket_prefix_S.C./A.4. (0.000000)\n",
      "57. Ticket_prefix_S.P. (0.000000)\n",
      "58. Ticket_prefix_W/C (0.000000)\n",
      "59. Ticket_prefix_SOTON/O2 (0.000000)\n",
      "60. Ticket_prefix_Fa (0.000000)\n",
      "61. Ticket_prefix_AQ/4 (0.000000)\n",
      "62. Ticket_prefix_SC/A.3 (0.000000)\n",
      "63. Ticket_prefix_SC/A4 (0.000000)\n",
      "64. Ticket_prefix_C.A./SOTON (0.000000)\n",
      "65. Ticket_prefix_AQ/3. (0.000000)\n",
      "66. Ticket_prefix_A. (0.000000)\n",
      "67. Ticket_prefix_LP (0.000000)\n",
      "68. Ticket_prefix_S.C./PARIS (0.000000)\n",
      "69. Ticket_prefix_STON/OQ. (0.000000)\n"
     ]
    }
   ],
   "source": [
    "clf.fit(x_train, y_train)\n",
    "\n",
    "for w in range(x_train.shape[1]):\n",
    "    print('%d. %s (%f)' % (w + 1,  x_train.columns[indices[w]], clf.feature_importances_[indices[w]]))"
   ]
  },
  {
   "cell_type": "markdown",
   "metadata": {},
   "source": [
    "I am skeptical that Ticket_number is actually the strongest feature. We will try dropping this column and repeating the fitting:"
   ]
  },
  {
   "cell_type": "code",
   "execution_count": 204,
   "metadata": {
    "collapsed": false
   },
   "outputs": [
    {
     "name": "stdout",
     "output_type": "stream",
     "text": [
      "Fold 1, Accuracy = 0.808988764045\n",
      "Fold 2, Accuracy = 0.85393258427\n",
      "Fold 3, Accuracy = 0.775280898876\n",
      "Fold 4, Accuracy = 0.797752808989\n",
      "Fold 5, Accuracy = 0.831460674157\n",
      "Fold 6, Accuracy = 0.842696629213\n",
      "Fold 7, Accuracy = 0.808988764045\n",
      "Fold 8, Accuracy = 0.775280898876\n",
      "Fold 9, Accuracy = 0.876404494382\n",
      "Fold 10, Accuracy = 0.831460674157\n",
      "*** Mean Accuracy = 0.820224719101\n",
      "*** Std Dev = 0.0313803147051\n"
     ]
    }
   ],
   "source": [
    "X = oh_train.drop(['PassengerId', 'Survived', 'Ticket_number'], axis=1)\n",
    "Y = oh_train.Survived\n",
    "\n",
    "x_train, x_test, y_train, y_test = train_test_split(X, Y, test_size=0.2, random_state=43)\n",
    "\n",
    "### \n",
    "clf = RandomForestClassifier()\n",
    "\n",
    "# some params to try:\n",
    "parameters = {'n_estimators': [10, 50, 100, 200, 250], \n",
    "                  'max_features': [None, 'log2', 'sqrt','auto'], \n",
    "                  'criterion': ['entropy', 'gini'],\n",
    "                  'max_depth': [2, 4, 7, 18, 23, 30], \n",
    "                  'min_samples_split': [2, 3, 5, 7, 12, 50],\n",
    "                  'min_samples_leaf': [1,3,5,8,13],\n",
    "                  'min_weight_fraction_leaf' : [0.0, 0.2],\n",
    "                  'max_leaf_nodes' : [None, 5,12,18,24],              \n",
    "                 }\n",
    "\n",
    "\n",
    "# Run GridSearchCV on the classifier\n",
    "accuracy = make_scorer(accuracy_score)\n",
    "    \n",
    "grid = GridSearchCV(clf, parameters, scoring=accuracy)\n",
    "grid = grid.fit(x_train, y_train)\n",
    "\n",
    "clf = grid.best_estimator_\n",
    "clf.fit(x_train, y_train)\n",
    "\n",
    "run_kfold(clf)"
   ]
  },
  {
   "cell_type": "code",
   "execution_count": 205,
   "metadata": {
    "collapsed": false
   },
   "outputs": [
    {
     "data": {
      "text/plain": [
       "RandomForestClassifier(bootstrap=True, class_weight=None, criterion='entropy',\n",
       "            max_depth=23, max_features='auto', max_leaf_nodes=24,\n",
       "            min_impurity_split=1e-07, min_samples_leaf=1,\n",
       "            min_samples_split=3, min_weight_fraction_leaf=0.0,\n",
       "            n_estimators=10, n_jobs=1, oob_score=False, random_state=None,\n",
       "            verbose=0, warm_start=False)"
      ]
     },
     "execution_count": 205,
     "metadata": {},
     "output_type": "execute_result"
    }
   ],
   "source": [
    "clf"
   ]
  },
  {
   "cell_type": "code",
   "execution_count": 210,
   "metadata": {
    "collapsed": false
   },
   "outputs": [
    {
     "name": "stdout",
     "output_type": "stream",
     "text": [
      "1. Sex_female (0.147252)\n",
      "2. Fare (0.143126)\n",
      "3. Age (0.040791)\n",
      "4. Sex_male (0.076909)\n",
      "5. Name_prefix_Mrs (0.010058)\n",
      "6. Embarked_C (0.004753)\n",
      "7. Num_relatives (0.076236)\n",
      "8. Pclass (0.093220)\n",
      "9. Cabin (0.055447)\n",
      "10. Name_prefix_Mr (0.206398)\n",
      "11. Name_prefix_NobleF (0.000000)\n",
      "12. Ticket_prefix_P/PP (0.000000)\n",
      "13. Name_prefix_Master (0.020713)\n",
      "14. Embarked_Q (0.004623)\n",
      "15. Name_prefix_Miss (0.037457)\n",
      "16. Embarked_S (0.013536)\n",
      "17. Ticket_prefix_PP (0.000000)\n",
      "18. Ticket_prefix_STON/O2. (0.003323)\n",
      "19. Ticket_prefix_C.A./SOTON (0.000000)\n",
      "20. Ticket_prefix_A/S (0.000000)\n",
      "21. Ticket_prefix_A. (0.000000)\n",
      "22. Ticket_prefix_W.E.P. (0.000000)\n",
      "23. Ticket_prefix_F.C. (0.000000)\n",
      "24. Ticket_prefix_SC (0.000000)\n",
      "25. Ticket_prefix_CA. (0.006104)\n",
      "26. Ticket_prefix_SOTON/O2 (0.000000)\n",
      "27. Ticket_prefix_C.A. (0.005451)\n",
      "28. Ticket_prefix_W./C. (0.001817)\n",
      "29. Ticket_prefix_S.O.C. (0.002941)\n",
      "30. Name_prefix_RevDr (0.001350)\n",
      "31. Ticket_prefix_STON/OQ. (0.000000)\n",
      "32. Ticket_prefix_S.O.P. (0.001878)\n",
      "33. Ticket_prefix_A/5. (0.007548)\n",
      "34. Ticket_prefix_STON/O (0.001657)\n",
      "35. Ticket_prefix_Fa (0.000000)\n",
      "36. Ticket_prefix_SC/Paris (0.000000)\n",
      "37. Ticket_prefix_SCO/W (0.000000)\n",
      "38. Ticket_prefix_S.C./A.4. (0.000000)\n",
      "39. Name_prefix_Officer (0.001201)\n",
      "40. Ticket_prefix_F.C.C. (0.002209)\n",
      "41. Ticket_prefix_W/C (0.000000)\n",
      "42. Ticket_prefix_SC/PARIS (0.003105)\n",
      "43. Ticket_prefix_A/5 (0.000967)\n"
     ]
    },
    {
     "ename": "IndexError",
     "evalue": "index 68 is out of bounds for axis 0 with size 68",
     "output_type": "error",
     "traceback": [
      "\u001b[0;31m---------------------------------------------------------------------------\u001b[0m",
      "\u001b[0;31mIndexError\u001b[0m                                Traceback (most recent call last)",
      "\u001b[0;32m<ipython-input-210-40570c59bff1>\u001b[0m in \u001b[0;36m<module>\u001b[0;34m()\u001b[0m\n\u001b[1;32m      2\u001b[0m \u001b[0;34m\u001b[0m\u001b[0m\n\u001b[1;32m      3\u001b[0m \u001b[0;32mfor\u001b[0m \u001b[0mw\u001b[0m \u001b[0;32min\u001b[0m \u001b[0mrange\u001b[0m\u001b[0;34m(\u001b[0m\u001b[0mx_train\u001b[0m\u001b[0;34m.\u001b[0m\u001b[0mshape\u001b[0m\u001b[0;34m[\u001b[0m\u001b[0;36m1\u001b[0m\u001b[0;34m]\u001b[0m\u001b[0;34m)\u001b[0m\u001b[0;34m:\u001b[0m\u001b[0;34m\u001b[0m\u001b[0m\n\u001b[0;32m----> 4\u001b[0;31m     \u001b[0mprint\u001b[0m\u001b[0;34m(\u001b[0m\u001b[0;34m'%d. %s (%f)'\u001b[0m \u001b[0;34m%\u001b[0m \u001b[0;34m(\u001b[0m\u001b[0mw\u001b[0m \u001b[0;34m+\u001b[0m \u001b[0;36m1\u001b[0m\u001b[0;34m,\u001b[0m  \u001b[0mx_train\u001b[0m\u001b[0;34m.\u001b[0m\u001b[0mcolumns\u001b[0m\u001b[0;34m[\u001b[0m\u001b[0mindices\u001b[0m\u001b[0;34m[\u001b[0m\u001b[0mw\u001b[0m\u001b[0;34m]\u001b[0m\u001b[0;34m]\u001b[0m\u001b[0;34m,\u001b[0m \u001b[0mclf\u001b[0m\u001b[0;34m.\u001b[0m\u001b[0mfeature_importances_\u001b[0m\u001b[0;34m[\u001b[0m\u001b[0mindices\u001b[0m\u001b[0;34m[\u001b[0m\u001b[0mw\u001b[0m\u001b[0;34m]\u001b[0m\u001b[0;34m]\u001b[0m\u001b[0;34m)\u001b[0m\u001b[0;34m)\u001b[0m\u001b[0;34m\u001b[0m\u001b[0m\n\u001b[0m",
      "\u001b[0;32m/Users/hayabusa/anaconda/lib/python3.6/site-packages/pandas/indexes/base.py\u001b[0m in \u001b[0;36m__getitem__\u001b[0;34m(self, key)\u001b[0m\n\u001b[1;32m   1421\u001b[0m \u001b[0;34m\u001b[0m\u001b[0m\n\u001b[1;32m   1422\u001b[0m         \u001b[0;32mif\u001b[0m \u001b[0mis_scalar\u001b[0m\u001b[0;34m(\u001b[0m\u001b[0mkey\u001b[0m\u001b[0;34m)\u001b[0m\u001b[0;34m:\u001b[0m\u001b[0;34m\u001b[0m\u001b[0m\n\u001b[0;32m-> 1423\u001b[0;31m             \u001b[0;32mreturn\u001b[0m \u001b[0mgetitem\u001b[0m\u001b[0;34m(\u001b[0m\u001b[0mkey\u001b[0m\u001b[0;34m)\u001b[0m\u001b[0;34m\u001b[0m\u001b[0m\n\u001b[0m\u001b[1;32m   1424\u001b[0m \u001b[0;34m\u001b[0m\u001b[0m\n\u001b[1;32m   1425\u001b[0m         \u001b[0;32mif\u001b[0m \u001b[0misinstance\u001b[0m\u001b[0;34m(\u001b[0m\u001b[0mkey\u001b[0m\u001b[0;34m,\u001b[0m \u001b[0mslice\u001b[0m\u001b[0;34m)\u001b[0m\u001b[0;34m:\u001b[0m\u001b[0;34m\u001b[0m\u001b[0m\n",
      "\u001b[0;31mIndexError\u001b[0m: index 68 is out of bounds for axis 0 with size 68"
     ]
    }
   ],
   "source": [
    "clf.fit(x_train, y_train)\n",
    "\n",
    "for w in range(x_train.shape[1]):\n",
    "    print('%d. %s (%f)' % (w + 1,  x_train.columns[indices[w]], clf.feature_importances_[indices[w]]))"
   ]
  },
  {
   "cell_type": "markdown",
   "metadata": {},
   "source": [
    "These feature importance rankings are more in line with what I would expect, but the k-fold scores aren't as good. I'm going to run both of these trained classifiers on their respective test sets (i.e. with and without 'Ticket_number'), and see how the results score on Kaggle."
   ]
  },
  {
   "cell_type": "code",
   "execution_count": 208,
   "metadata": {
    "collapsed": false
   },
   "outputs": [
    {
     "name": "stdout",
     "output_type": "stream",
     "text": [
      "\n",
      " *** Outputting test results as .csv ***\n"
     ]
    }
   ],
   "source": [
    "# With Ticket_number\n",
    "\n",
    "X = oh_train.drop(['PassengerId', 'Survived'], axis=1)\n",
    "Y = oh_train.Survived\n",
    "\n",
    "clf = RandomForestClassifier(bootstrap=True, class_weight=None, criterion='entropy', max_depth=7, max_features=None, max_leaf_nodes=24, min_impurity_split=1e-07, min_samples_leaf=5, min_samples_split=2, min_weight_fraction_leaf=0.0, n_estimators=200, n_jobs=1, oob_score=False, random_state=None, verbose=0, warm_start=False)\n",
    "\n",
    "clf.fit(X,Y)\n",
    "\n",
    "print(\"\")\n",
    "print(\" *** Outputting test results as .csv ***\")    \n",
    "ids = oh_test.PassengerId\n",
    "preds = clf.predict(oh_test.drop(['PassengerId'], axis=1))\n",
    "    \n",
    "output = pd.DataFrame({ 'PassengerId' : ids, 'Survived': preds })\n",
    "output.to_csv('titanic_predictions.csv', index = False)\n"
   ]
  },
  {
   "cell_type": "code",
   "execution_count": 211,
   "metadata": {
    "collapsed": false
   },
   "outputs": [
    {
     "name": "stdout",
     "output_type": "stream",
     "text": [
      "\n",
      " *** Outputting test results as .csv ***\n"
     ]
    }
   ],
   "source": [
    "# Without 'Ticket_number'\n",
    "\n",
    "X = oh_train.drop(['PassengerId', 'Survived','Ticket_number'], axis=1)\n",
    "Y = oh_train.Survived\n",
    "\n",
    "clf = RandomForestClassifier(bootstrap=True, class_weight=None, criterion='entropy',\n",
    "            max_depth=23, max_features='auto', max_leaf_nodes=24,\n",
    "            min_impurity_split=1e-07, min_samples_leaf=1,\n",
    "            min_samples_split=3, min_weight_fraction_leaf=0.0,\n",
    "            n_estimators=10, n_jobs=1, oob_score=False, random_state=None,\n",
    "            verbose=0, warm_start=False)\n",
    "\n",
    "clf.fit(X,Y)\n",
    "\n",
    "print(\"\")\n",
    "print(\" *** Outputting test results as .csv ***\")    \n",
    "ids = oh_test.PassengerId\n",
    "preds = clf.predict(oh_test.drop(['PassengerId', 'Ticket_number'], axis=1))\n",
    "    \n",
    "output = pd.DataFrame({ 'PassengerId' : ids, 'Survived': preds })\n",
    "output.to_csv('titanic_predictions.csv', index = False)\n"
   ]
  },
  {
   "cell_type": "markdown",
   "metadata": {},
   "source": [
    "Sure enough: the former scored 0.78468, good for a leaderboard placement of 4139 (out of ~9200), whereas the latter scored 0.80382, which ranks 1150 on the leaderboard (i.e. top 15%). It can be beneficial sometimes to trust your gut."
   ]
  },
  {
   "cell_type": "code",
   "execution_count": null,
   "metadata": {
    "collapsed": true
   },
   "outputs": [],
   "source": []
  }
 ],
 "metadata": {
  "kernelspec": {
   "display_name": "Python 3",
   "language": "python",
   "name": "python3"
  },
  "language_info": {
   "codemirror_mode": {
    "name": "ipython",
    "version": 3
   },
   "file_extension": ".py",
   "mimetype": "text/x-python",
   "name": "python",
   "nbconvert_exporter": "python",
   "pygments_lexer": "ipython3",
   "version": "3.6.0"
  }
 },
 "nbformat": 4,
 "nbformat_minor": 2
}
